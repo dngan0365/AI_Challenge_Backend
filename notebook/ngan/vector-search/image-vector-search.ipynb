{
 "cells": [
  {
   "cell_type": "markdown",
   "id": "90487e97",
   "metadata": {},
   "source": [
    "# Google Vertex AI Vector Search\n",
    "\n",
    "This notebook shows how to use functionality related to the `Google Cloud Vertex AI Vector Search` vector database.\n",
    "\n",
    "> [Google Vertex AI Vector Search](https://cloud.google.com/vertex-ai/docs/vector-search/overview), formerly known as Vertex AI Matching Engine, provides the industry's leading high-scale low latency vector database. These vector databases are commonly referred to as vector similarity-matching or an approximate nearest neighbor (ANN) service.\n",
    "\n",
    "**Note**: LlamaIndex expects Vertex AI Vector Search endpoint and deployed index is already created. An empty index creation time take upto a minute and deploying an index to the endpoint can take upto 30 min.\n",
    "\n",
    "> To see how to create an index refer to the section [Create Index and deploy it to an Endpoint](#create-index-and-deploy-it-to-an-endpoint)  \n",
    "If you already have an index deployed , skip to [Create VectorStore from texts](#create-vector-store-from-texts)"
   ]
  },
  {
   "cell_type": "markdown",
   "id": "69868bcd",
   "metadata": {},
   "source": [
    "## Installation\n",
    "\n",
    "If you're opening this Notebook on colab, you will probably need to install LlamaIndex 🦙."
   ]
  },
  {
   "cell_type": "code",
   "execution_count": 38,
   "id": "c2f58b7c",
   "metadata": {},
   "outputs": [
    {
     "name": "stdout",
     "output_type": "stream",
     "text": [
      "Requirement already satisfied: llama-index in c:\\users\\mt200\\onedrive\\desktop\\ai\\ai_challenge\\software\\back-end\\.venv\\lib\\site-packages (0.13.3)\n",
      "Requirement already satisfied: llama-index-vector-stores-vertexaivectorsearch in c:\\users\\mt200\\onedrive\\desktop\\ai\\ai_challenge\\software\\back-end\\.venv\\lib\\site-packages (0.3.0)\n",
      "Requirement already satisfied: llama-index-llms-vertex in c:\\users\\mt200\\onedrive\\desktop\\ai\\ai_challenge\\software\\back-end\\.venv\\lib\\site-packages (0.6.0)\n",
      "Requirement already satisfied: llama-index-cli<0.6,>=0.5.0 in c:\\users\\mt200\\onedrive\\desktop\\ai\\ai_challenge\\software\\back-end\\.venv\\lib\\site-packages (from llama-index) (0.5.0)\n",
      "Requirement already satisfied: llama-index-core<0.14,>=0.13.3 in c:\\users\\mt200\\onedrive\\desktop\\ai\\ai_challenge\\software\\back-end\\.venv\\lib\\site-packages (from llama-index) (0.13.3)\n",
      "Requirement already satisfied: llama-index-embeddings-openai<0.6,>=0.5.0 in c:\\users\\mt200\\onedrive\\desktop\\ai\\ai_challenge\\software\\back-end\\.venv\\lib\\site-packages (from llama-index) (0.5.0)\n",
      "Requirement already satisfied: llama-index-indices-managed-llama-cloud>=0.4.0 in c:\\users\\mt200\\onedrive\\desktop\\ai\\ai_challenge\\software\\back-end\\.venv\\lib\\site-packages (from llama-index) (0.9.2)\n",
      "Requirement already satisfied: llama-index-llms-openai<0.6,>=0.5.0 in c:\\users\\mt200\\onedrive\\desktop\\ai\\ai_challenge\\software\\back-end\\.venv\\lib\\site-packages (from llama-index) (0.5.4)\n",
      "Requirement already satisfied: llama-index-readers-file<0.6,>=0.5.0 in c:\\users\\mt200\\onedrive\\desktop\\ai\\ai_challenge\\software\\back-end\\.venv\\lib\\site-packages (from llama-index) (0.5.2)\n",
      "Requirement already satisfied: llama-index-readers-llama-parse>=0.4.0 in c:\\users\\mt200\\onedrive\\desktop\\ai\\ai_challenge\\software\\back-end\\.venv\\lib\\site-packages (from llama-index) (0.5.0)\n",
      "Requirement already satisfied: nltk>3.8.1 in c:\\users\\mt200\\onedrive\\desktop\\ai\\ai_challenge\\software\\back-end\\.venv\\lib\\site-packages (from llama-index) (3.9.1)\n",
      "Requirement already satisfied: google-cloud-aiplatform<2,>=1.39.0 in c:\\users\\mt200\\onedrive\\desktop\\ai\\ai_challenge\\software\\back-end\\.venv\\lib\\site-packages (from llama-index-vector-stores-vertexaivectorsearch) (1.111.0)\n",
      "Requirement already satisfied: google-cloud-storage<3,>=2.16.0 in c:\\users\\mt200\\onedrive\\desktop\\ai\\ai_challenge\\software\\back-end\\.venv\\lib\\site-packages (from llama-index-vector-stores-vertexaivectorsearch) (2.19.0)\n",
      "Requirement already satisfied: llama-index-embeddings-vertex<0.5,>=0.4.0 in c:\\users\\mt200\\onedrive\\desktop\\ai\\ai_challenge\\software\\back-end\\.venv\\lib\\site-packages (from llama-index-vector-stores-vertexaivectorsearch) (0.4.0)\n",
      "Requirement already satisfied: google-api-core!=2.0.*,!=2.1.*,!=2.2.*,!=2.3.*,!=2.4.*,!=2.5.*,!=2.6.*,!=2.7.*,<3.0.0,>=1.34.1 in c:\\users\\mt200\\onedrive\\desktop\\ai\\ai_challenge\\software\\back-end\\.venv\\lib\\site-packages (from google-api-core[grpc]!=2.0.*,!=2.1.*,!=2.2.*,!=2.3.*,!=2.4.*,!=2.5.*,!=2.6.*,!=2.7.*,<3.0.0,>=1.34.1->google-cloud-aiplatform<2,>=1.39.0->llama-index-vector-stores-vertexaivectorsearch) (2.25.1)\n",
      "Requirement already satisfied: google-auth<3.0.0,>=2.14.1 in c:\\users\\mt200\\onedrive\\desktop\\ai\\ai_challenge\\software\\back-end\\.venv\\lib\\site-packages (from google-cloud-aiplatform<2,>=1.39.0->llama-index-vector-stores-vertexaivectorsearch) (2.40.3)\n",
      "Requirement already satisfied: proto-plus<2.0.0,>=1.22.3 in c:\\users\\mt200\\onedrive\\desktop\\ai\\ai_challenge\\software\\back-end\\.venv\\lib\\site-packages (from google-cloud-aiplatform<2,>=1.39.0->llama-index-vector-stores-vertexaivectorsearch) (1.26.1)\n",
      "Requirement already satisfied: protobuf!=4.21.0,!=4.21.1,!=4.21.2,!=4.21.3,!=4.21.4,!=4.21.5,<7.0.0,>=3.20.2 in c:\\users\\mt200\\onedrive\\desktop\\ai\\ai_challenge\\software\\back-end\\.venv\\lib\\site-packages (from google-cloud-aiplatform<2,>=1.39.0->llama-index-vector-stores-vertexaivectorsearch) (6.32.0)\n",
      "Requirement already satisfied: packaging>=14.3 in c:\\users\\mt200\\onedrive\\desktop\\ai\\ai_challenge\\software\\back-end\\.venv\\lib\\site-packages (from google-cloud-aiplatform<2,>=1.39.0->llama-index-vector-stores-vertexaivectorsearch) (25.0)\n",
      "Requirement already satisfied: google-cloud-bigquery!=3.20.0,<4.0.0,>=1.15.0 in c:\\users\\mt200\\onedrive\\desktop\\ai\\ai_challenge\\software\\back-end\\.venv\\lib\\site-packages (from google-cloud-aiplatform<2,>=1.39.0->llama-index-vector-stores-vertexaivectorsearch) (3.36.0)\n",
      "Requirement already satisfied: google-cloud-resource-manager<3.0.0,>=1.3.3 in c:\\users\\mt200\\onedrive\\desktop\\ai\\ai_challenge\\software\\back-end\\.venv\\lib\\site-packages (from google-cloud-aiplatform<2,>=1.39.0->llama-index-vector-stores-vertexaivectorsearch) (1.14.2)\n",
      "Requirement already satisfied: shapely<3.0.0 in c:\\users\\mt200\\onedrive\\desktop\\ai\\ai_challenge\\software\\back-end\\.venv\\lib\\site-packages (from google-cloud-aiplatform<2,>=1.39.0->llama-index-vector-stores-vertexaivectorsearch) (2.1.1)\n",
      "Requirement already satisfied: google-genai<2.0.0,>=1.0.0 in c:\\users\\mt200\\onedrive\\desktop\\ai\\ai_challenge\\software\\back-end\\.venv\\lib\\site-packages (from google-cloud-aiplatform<2,>=1.39.0->llama-index-vector-stores-vertexaivectorsearch) (1.32.0)\n",
      "Requirement already satisfied: pydantic<3 in c:\\users\\mt200\\onedrive\\desktop\\ai\\ai_challenge\\software\\back-end\\.venv\\lib\\site-packages (from google-cloud-aiplatform<2,>=1.39.0->llama-index-vector-stores-vertexaivectorsearch) (2.11.7)\n",
      "Requirement already satisfied: typing_extensions in c:\\users\\mt200\\onedrive\\desktop\\ai\\ai_challenge\\software\\back-end\\.venv\\lib\\site-packages (from google-cloud-aiplatform<2,>=1.39.0->llama-index-vector-stores-vertexaivectorsearch) (4.15.0)\n",
      "Requirement already satisfied: docstring_parser<1 in c:\\users\\mt200\\onedrive\\desktop\\ai\\ai_challenge\\software\\back-end\\.venv\\lib\\site-packages (from google-cloud-aiplatform<2,>=1.39.0->llama-index-vector-stores-vertexaivectorsearch) (0.17.0)\n",
      "Requirement already satisfied: google-cloud-core<3.0dev,>=2.3.0 in c:\\users\\mt200\\onedrive\\desktop\\ai\\ai_challenge\\software\\back-end\\.venv\\lib\\site-packages (from google-cloud-storage<3,>=2.16.0->llama-index-vector-stores-vertexaivectorsearch) (2.4.3)\n",
      "Requirement already satisfied: google-resumable-media>=2.7.2 in c:\\users\\mt200\\onedrive\\desktop\\ai\\ai_challenge\\software\\back-end\\.venv\\lib\\site-packages (from google-cloud-storage<3,>=2.16.0->llama-index-vector-stores-vertexaivectorsearch) (2.7.2)\n",
      "Requirement already satisfied: requests<3.0.0dev,>=2.18.0 in c:\\users\\mt200\\onedrive\\desktop\\ai\\ai_challenge\\software\\back-end\\.venv\\lib\\site-packages (from google-cloud-storage<3,>=2.16.0->llama-index-vector-stores-vertexaivectorsearch) (2.32.4)\n",
      "Requirement already satisfied: google-crc32c<2.0dev,>=1.0 in c:\\users\\mt200\\onedrive\\desktop\\ai\\ai_challenge\\software\\back-end\\.venv\\lib\\site-packages (from google-cloud-storage<3,>=2.16.0->llama-index-vector-stores-vertexaivectorsearch) (1.7.1)\n",
      "Requirement already satisfied: aiohttp<4,>=3.8.6 in c:\\users\\mt200\\onedrive\\desktop\\ai\\ai_challenge\\software\\back-end\\.venv\\lib\\site-packages (from llama-index-core<0.14,>=0.13.3->llama-index) (3.12.15)\n",
      "Requirement already satisfied: aiosqlite in c:\\users\\mt200\\onedrive\\desktop\\ai\\ai_challenge\\software\\back-end\\.venv\\lib\\site-packages (from llama-index-core<0.14,>=0.13.3->llama-index) (0.21.0)\n",
      "Requirement already satisfied: banks<3,>=2.2.0 in c:\\users\\mt200\\onedrive\\desktop\\ai\\ai_challenge\\software\\back-end\\.venv\\lib\\site-packages (from llama-index-core<0.14,>=0.13.3->llama-index) (2.2.0)\n",
      "Requirement already satisfied: dataclasses-json in c:\\users\\mt200\\onedrive\\desktop\\ai\\ai_challenge\\software\\back-end\\.venv\\lib\\site-packages (from llama-index-core<0.14,>=0.13.3->llama-index) (0.6.7)\n",
      "Requirement already satisfied: deprecated>=1.2.9.3 in c:\\users\\mt200\\onedrive\\desktop\\ai\\ai_challenge\\software\\back-end\\.venv\\lib\\site-packages (from llama-index-core<0.14,>=0.13.3->llama-index) (1.2.18)\n",
      "Requirement already satisfied: dirtyjson<2,>=1.0.8 in c:\\users\\mt200\\onedrive\\desktop\\ai\\ai_challenge\\software\\back-end\\.venv\\lib\\site-packages (from llama-index-core<0.14,>=0.13.3->llama-index) (1.0.8)\n",
      "Requirement already satisfied: filetype<2,>=1.2.0 in c:\\users\\mt200\\onedrive\\desktop\\ai\\ai_challenge\\software\\back-end\\.venv\\lib\\site-packages (from llama-index-core<0.14,>=0.13.3->llama-index) (1.2.0)\n",
      "Requirement already satisfied: fsspec>=2023.5.0 in c:\\users\\mt200\\onedrive\\desktop\\ai\\ai_challenge\\software\\back-end\\.venv\\lib\\site-packages (from llama-index-core<0.14,>=0.13.3->llama-index) (2025.7.0)\n",
      "Requirement already satisfied: httpx in c:\\users\\mt200\\onedrive\\desktop\\ai\\ai_challenge\\software\\back-end\\.venv\\lib\\site-packages (from llama-index-core<0.14,>=0.13.3->llama-index) (0.28.1)\n",
      "Requirement already satisfied: llama-index-workflows<2,>=1.0.1 in c:\\users\\mt200\\onedrive\\desktop\\ai\\ai_challenge\\software\\back-end\\.venv\\lib\\site-packages (from llama-index-core<0.14,>=0.13.3->llama-index) (1.3.0)\n",
      "Requirement already satisfied: nest-asyncio<2,>=1.5.8 in c:\\users\\mt200\\onedrive\\desktop\\ai\\ai_challenge\\software\\back-end\\.venv\\lib\\site-packages (from llama-index-core<0.14,>=0.13.3->llama-index) (1.6.0)\n",
      "Requirement already satisfied: networkx>=3.0 in c:\\users\\mt200\\onedrive\\desktop\\ai\\ai_challenge\\software\\back-end\\.venv\\lib\\site-packages (from llama-index-core<0.14,>=0.13.3->llama-index) (3.5)\n",
      "Requirement already satisfied: numpy in c:\\users\\mt200\\onedrive\\desktop\\ai\\ai_challenge\\software\\back-end\\.venv\\lib\\site-packages (from llama-index-core<0.14,>=0.13.3->llama-index) (2.3.2)\n",
      "Requirement already satisfied: pillow>=9.0.0 in c:\\users\\mt200\\onedrive\\desktop\\ai\\ai_challenge\\software\\back-end\\.venv\\lib\\site-packages (from llama-index-core<0.14,>=0.13.3->llama-index) (11.3.0)\n",
      "Requirement already satisfied: platformdirs in c:\\users\\mt200\\onedrive\\desktop\\ai\\ai_challenge\\software\\back-end\\.venv\\lib\\site-packages (from llama-index-core<0.14,>=0.13.3->llama-index) (4.4.0)\n",
      "Requirement already satisfied: pyyaml>=6.0.1 in c:\\users\\mt200\\onedrive\\desktop\\ai\\ai_challenge\\software\\back-end\\.venv\\lib\\site-packages (from llama-index-core<0.14,>=0.13.3->llama-index) (6.0.2)\n",
      "Requirement already satisfied: setuptools>=80.9.0 in c:\\users\\mt200\\onedrive\\desktop\\ai\\ai_challenge\\software\\back-end\\.venv\\lib\\site-packages (from llama-index-core<0.14,>=0.13.3->llama-index) (80.9.0)\n",
      "Requirement already satisfied: sqlalchemy>=1.4.49 in c:\\users\\mt200\\onedrive\\desktop\\ai\\ai_challenge\\software\\back-end\\.venv\\lib\\site-packages (from sqlalchemy[asyncio]>=1.4.49->llama-index-core<0.14,>=0.13.3->llama-index) (2.0.43)\n",
      "Requirement already satisfied: tenacity!=8.4.0,<10.0.0,>=8.2.0 in c:\\users\\mt200\\onedrive\\desktop\\ai\\ai_challenge\\software\\back-end\\.venv\\lib\\site-packages (from llama-index-core<0.14,>=0.13.3->llama-index) (9.1.2)\n",
      "Requirement already satisfied: tiktoken>=0.7.0 in c:\\users\\mt200\\onedrive\\desktop\\ai\\ai_challenge\\software\\back-end\\.venv\\lib\\site-packages (from llama-index-core<0.14,>=0.13.3->llama-index) (0.11.0)\n",
      "Requirement already satisfied: tqdm<5,>=4.66.1 in c:\\users\\mt200\\onedrive\\desktop\\ai\\ai_challenge\\software\\back-end\\.venv\\lib\\site-packages (from llama-index-core<0.14,>=0.13.3->llama-index) (4.67.1)\n",
      "Requirement already satisfied: typing-inspect>=0.8.0 in c:\\users\\mt200\\onedrive\\desktop\\ai\\ai_challenge\\software\\back-end\\.venv\\lib\\site-packages (from llama-index-core<0.14,>=0.13.3->llama-index) (0.9.0)\n",
      "Requirement already satisfied: wrapt in c:\\users\\mt200\\onedrive\\desktop\\ai\\ai_challenge\\software\\back-end\\.venv\\lib\\site-packages (from llama-index-core<0.14,>=0.13.3->llama-index) (1.17.3)\n",
      "Requirement already satisfied: openai>=1.1.0 in c:\\users\\mt200\\onedrive\\desktop\\ai\\ai_challenge\\software\\back-end\\.venv\\lib\\site-packages (from llama-index-embeddings-openai<0.6,>=0.5.0->llama-index) (1.102.0)\n",
      "Requirement already satisfied: llama-cloud==0.1.35 in c:\\users\\mt200\\onedrive\\desktop\\ai\\ai_challenge\\software\\back-end\\.venv\\lib\\site-packages (from llama-index-indices-managed-llama-cloud>=0.4.0->llama-index) (0.1.35)\n",
      "Requirement already satisfied: certifi>=2024.7.4 in c:\\users\\mt200\\onedrive\\desktop\\ai\\ai_challenge\\software\\back-end\\.venv\\lib\\site-packages (from llama-cloud==0.1.35->llama-index-indices-managed-llama-cloud>=0.4.0->llama-index) (2025.8.3)\n",
      "Requirement already satisfied: beautifulsoup4<5,>=4.12.3 in c:\\users\\mt200\\onedrive\\desktop\\ai\\ai_challenge\\software\\back-end\\.venv\\lib\\site-packages (from llama-index-readers-file<0.6,>=0.5.0->llama-index) (4.13.5)\n",
      "Requirement already satisfied: defusedxml>=0.7.1 in c:\\users\\mt200\\onedrive\\desktop\\ai\\ai_challenge\\software\\back-end\\.venv\\lib\\site-packages (from llama-index-readers-file<0.6,>=0.5.0->llama-index) (0.7.1)\n",
      "Requirement already satisfied: pandas<2.3.0 in c:\\users\\mt200\\onedrive\\desktop\\ai\\ai_challenge\\software\\back-end\\.venv\\lib\\site-packages (from llama-index-readers-file<0.6,>=0.5.0->llama-index) (2.2.3)\n",
      "Requirement already satisfied: pypdf<7,>=5.1.0 in c:\\users\\mt200\\onedrive\\desktop\\ai\\ai_challenge\\software\\back-end\\.venv\\lib\\site-packages (from llama-index-readers-file<0.6,>=0.5.0->llama-index) (6.0.0)\n",
      "Requirement already satisfied: striprtf<0.0.27,>=0.0.26 in c:\\users\\mt200\\onedrive\\desktop\\ai\\ai_challenge\\software\\back-end\\.venv\\lib\\site-packages (from llama-index-readers-file<0.6,>=0.5.0->llama-index) (0.0.26)\n",
      "Requirement already satisfied: llama-parse>=0.5.0 in c:\\users\\mt200\\onedrive\\desktop\\ai\\ai_challenge\\software\\back-end\\.venv\\lib\\site-packages (from llama-index-readers-llama-parse>=0.4.0->llama-index) (0.6.54)\n",
      "Requirement already satisfied: click in c:\\users\\mt200\\onedrive\\desktop\\ai\\ai_challenge\\software\\back-end\\.venv\\lib\\site-packages (from nltk>3.8.1->llama-index) (8.2.1)\n",
      "Requirement already satisfied: joblib in c:\\users\\mt200\\onedrive\\desktop\\ai\\ai_challenge\\software\\back-end\\.venv\\lib\\site-packages (from nltk>3.8.1->llama-index) (1.5.2)\n",
      "Requirement already satisfied: regex>=2021.8.3 in c:\\users\\mt200\\onedrive\\desktop\\ai\\ai_challenge\\software\\back-end\\.venv\\lib\\site-packages (from nltk>3.8.1->llama-index) (2025.8.29)\n",
      "Requirement already satisfied: aiohappyeyeballs>=2.5.0 in c:\\users\\mt200\\onedrive\\desktop\\ai\\ai_challenge\\software\\back-end\\.venv\\lib\\site-packages (from aiohttp<4,>=3.8.6->llama-index-core<0.14,>=0.13.3->llama-index) (2.6.1)\n",
      "Requirement already satisfied: aiosignal>=1.4.0 in c:\\users\\mt200\\onedrive\\desktop\\ai\\ai_challenge\\software\\back-end\\.venv\\lib\\site-packages (from aiohttp<4,>=3.8.6->llama-index-core<0.14,>=0.13.3->llama-index) (1.4.0)\n",
      "Requirement already satisfied: attrs>=17.3.0 in c:\\users\\mt200\\onedrive\\desktop\\ai\\ai_challenge\\software\\back-end\\.venv\\lib\\site-packages (from aiohttp<4,>=3.8.6->llama-index-core<0.14,>=0.13.3->llama-index) (25.3.0)\n",
      "Requirement already satisfied: frozenlist>=1.1.1 in c:\\users\\mt200\\onedrive\\desktop\\ai\\ai_challenge\\software\\back-end\\.venv\\lib\\site-packages (from aiohttp<4,>=3.8.6->llama-index-core<0.14,>=0.13.3->llama-index) (1.7.0)\n",
      "Requirement already satisfied: multidict<7.0,>=4.5 in c:\\users\\mt200\\onedrive\\desktop\\ai\\ai_challenge\\software\\back-end\\.venv\\lib\\site-packages (from aiohttp<4,>=3.8.6->llama-index-core<0.14,>=0.13.3->llama-index) (6.6.4)\n",
      "Requirement already satisfied: propcache>=0.2.0 in c:\\users\\mt200\\onedrive\\desktop\\ai\\ai_challenge\\software\\back-end\\.venv\\lib\\site-packages (from aiohttp<4,>=3.8.6->llama-index-core<0.14,>=0.13.3->llama-index) (0.3.2)\n",
      "Requirement already satisfied: yarl<2.0,>=1.17.0 in c:\\users\\mt200\\onedrive\\desktop\\ai\\ai_challenge\\software\\back-end\\.venv\\lib\\site-packages (from aiohttp<4,>=3.8.6->llama-index-core<0.14,>=0.13.3->llama-index) (1.20.1)\n",
      "Requirement already satisfied: griffe in c:\\users\\mt200\\onedrive\\desktop\\ai\\ai_challenge\\software\\back-end\\.venv\\lib\\site-packages (from banks<3,>=2.2.0->llama-index-core<0.14,>=0.13.3->llama-index) (1.13.0)\n",
      "Requirement already satisfied: jinja2 in c:\\users\\mt200\\onedrive\\desktop\\ai\\ai_challenge\\software\\back-end\\.venv\\lib\\site-packages (from banks<3,>=2.2.0->llama-index-core<0.14,>=0.13.3->llama-index) (3.1.6)\n",
      "Requirement already satisfied: soupsieve>1.2 in c:\\users\\mt200\\onedrive\\desktop\\ai\\ai_challenge\\software\\back-end\\.venv\\lib\\site-packages (from beautifulsoup4<5,>=4.12.3->llama-index-readers-file<0.6,>=0.5.0->llama-index) (2.8)\n",
      "Requirement already satisfied: googleapis-common-protos<2.0.0,>=1.56.2 in c:\\users\\mt200\\onedrive\\desktop\\ai\\ai_challenge\\software\\back-end\\.venv\\lib\\site-packages (from google-api-core!=2.0.*,!=2.1.*,!=2.2.*,!=2.3.*,!=2.4.*,!=2.5.*,!=2.6.*,!=2.7.*,<3.0.0,>=1.34.1->google-api-core[grpc]!=2.0.*,!=2.1.*,!=2.2.*,!=2.3.*,!=2.4.*,!=2.5.*,!=2.6.*,!=2.7.*,<3.0.0,>=1.34.1->google-cloud-aiplatform<2,>=1.39.0->llama-index-vector-stores-vertexaivectorsearch) (1.70.0)\n",
      "Requirement already satisfied: grpcio<2.0.0,>=1.33.2 in c:\\users\\mt200\\onedrive\\desktop\\ai\\ai_challenge\\software\\back-end\\.venv\\lib\\site-packages (from google-api-core[grpc]!=2.0.*,!=2.1.*,!=2.2.*,!=2.3.*,!=2.4.*,!=2.5.*,!=2.6.*,!=2.7.*,<3.0.0,>=1.34.1->google-cloud-aiplatform<2,>=1.39.0->llama-index-vector-stores-vertexaivectorsearch) (1.74.0)\n",
      "Requirement already satisfied: grpcio-status<2.0.0,>=1.33.2 in c:\\users\\mt200\\onedrive\\desktop\\ai\\ai_challenge\\software\\back-end\\.venv\\lib\\site-packages (from google-api-core[grpc]!=2.0.*,!=2.1.*,!=2.2.*,!=2.3.*,!=2.4.*,!=2.5.*,!=2.6.*,!=2.7.*,<3.0.0,>=1.34.1->google-cloud-aiplatform<2,>=1.39.0->llama-index-vector-stores-vertexaivectorsearch) (1.74.0)\n",
      "Requirement already satisfied: cachetools<6.0,>=2.0.0 in c:\\users\\mt200\\onedrive\\desktop\\ai\\ai_challenge\\software\\back-end\\.venv\\lib\\site-packages (from google-auth<3.0.0,>=2.14.1->google-cloud-aiplatform<2,>=1.39.0->llama-index-vector-stores-vertexaivectorsearch) (5.5.2)\n",
      "Requirement already satisfied: pyasn1-modules>=0.2.1 in c:\\users\\mt200\\onedrive\\desktop\\ai\\ai_challenge\\software\\back-end\\.venv\\lib\\site-packages (from google-auth<3.0.0,>=2.14.1->google-cloud-aiplatform<2,>=1.39.0->llama-index-vector-stores-vertexaivectorsearch) (0.4.2)\n",
      "Requirement already satisfied: rsa<5,>=3.1.4 in c:\\users\\mt200\\onedrive\\desktop\\ai\\ai_challenge\\software\\back-end\\.venv\\lib\\site-packages (from google-auth<3.0.0,>=2.14.1->google-cloud-aiplatform<2,>=1.39.0->llama-index-vector-stores-vertexaivectorsearch) (4.9.1)\n",
      "Requirement already satisfied: python-dateutil<3.0.0,>=2.8.2 in c:\\users\\mt200\\onedrive\\desktop\\ai\\ai_challenge\\software\\back-end\\.venv\\lib\\site-packages (from google-cloud-bigquery!=3.20.0,<4.0.0,>=1.15.0->google-cloud-aiplatform<2,>=1.39.0->llama-index-vector-stores-vertexaivectorsearch) (2.9.0.post0)\n",
      "Requirement already satisfied: grpc-google-iam-v1<1.0.0,>=0.14.0 in c:\\users\\mt200\\onedrive\\desktop\\ai\\ai_challenge\\software\\back-end\\.venv\\lib\\site-packages (from google-cloud-resource-manager<3.0.0,>=1.3.3->google-cloud-aiplatform<2,>=1.39.0->llama-index-vector-stores-vertexaivectorsearch) (0.14.2)\n",
      "Requirement already satisfied: anyio<5.0.0,>=4.8.0 in c:\\users\\mt200\\onedrive\\desktop\\ai\\ai_challenge\\software\\back-end\\.venv\\lib\\site-packages (from google-genai<2.0.0,>=1.0.0->google-cloud-aiplatform<2,>=1.39.0->llama-index-vector-stores-vertexaivectorsearch) (4.10.0)\n",
      "Requirement already satisfied: websockets<15.1.0,>=13.0.0 in c:\\users\\mt200\\onedrive\\desktop\\ai\\ai_challenge\\software\\back-end\\.venv\\lib\\site-packages (from google-genai<2.0.0,>=1.0.0->google-cloud-aiplatform<2,>=1.39.0->llama-index-vector-stores-vertexaivectorsearch) (15.0.1)\n",
      "Requirement already satisfied: httpcore==1.* in c:\\users\\mt200\\onedrive\\desktop\\ai\\ai_challenge\\software\\back-end\\.venv\\lib\\site-packages (from httpx->llama-index-core<0.14,>=0.13.3->llama-index) (1.0.9)\n",
      "Requirement already satisfied: idna in c:\\users\\mt200\\onedrive\\desktop\\ai\\ai_challenge\\software\\back-end\\.venv\\lib\\site-packages (from httpx->llama-index-core<0.14,>=0.13.3->llama-index) (3.10)\n",
      "Requirement already satisfied: h11>=0.16 in c:\\users\\mt200\\onedrive\\desktop\\ai\\ai_challenge\\software\\back-end\\.venv\\lib\\site-packages (from httpcore==1.*->httpx->llama-index-core<0.14,>=0.13.3->llama-index) (0.16.0)\n",
      "Requirement already satisfied: llama-index-instrumentation>=0.1.0 in c:\\users\\mt200\\onedrive\\desktop\\ai\\ai_challenge\\software\\back-end\\.venv\\lib\\site-packages (from llama-index-workflows<2,>=1.0.1->llama-index-core<0.14,>=0.13.3->llama-index) (0.4.0)\n",
      "Requirement already satisfied: llama-cloud-services>=0.6.54 in c:\\users\\mt200\\onedrive\\desktop\\ai\\ai_challenge\\software\\back-end\\.venv\\lib\\site-packages (from llama-parse>=0.5.0->llama-index-readers-llama-parse>=0.4.0->llama-index) (0.6.54)\n",
      "Requirement already satisfied: distro<2,>=1.7.0 in c:\\users\\mt200\\onedrive\\desktop\\ai\\ai_challenge\\software\\back-end\\.venv\\lib\\site-packages (from openai>=1.1.0->llama-index-embeddings-openai<0.6,>=0.5.0->llama-index) (1.9.0)\n",
      "Requirement already satisfied: jiter<1,>=0.4.0 in c:\\users\\mt200\\onedrive\\desktop\\ai\\ai_challenge\\software\\back-end\\.venv\\lib\\site-packages (from openai>=1.1.0->llama-index-embeddings-openai<0.6,>=0.5.0->llama-index) (0.10.0)\n",
      "Requirement already satisfied: sniffio in c:\\users\\mt200\\onedrive\\desktop\\ai\\ai_challenge\\software\\back-end\\.venv\\lib\\site-packages (from openai>=1.1.0->llama-index-embeddings-openai<0.6,>=0.5.0->llama-index) (1.3.1)\n",
      "Requirement already satisfied: pytz>=2020.1 in c:\\users\\mt200\\onedrive\\desktop\\ai\\ai_challenge\\software\\back-end\\.venv\\lib\\site-packages (from pandas<2.3.0->llama-index-readers-file<0.6,>=0.5.0->llama-index) (2025.2)\n",
      "Requirement already satisfied: tzdata>=2022.7 in c:\\users\\mt200\\onedrive\\desktop\\ai\\ai_challenge\\software\\back-end\\.venv\\lib\\site-packages (from pandas<2.3.0->llama-index-readers-file<0.6,>=0.5.0->llama-index) (2025.2)\n",
      "Requirement already satisfied: annotated-types>=0.6.0 in c:\\users\\mt200\\onedrive\\desktop\\ai\\ai_challenge\\software\\back-end\\.venv\\lib\\site-packages (from pydantic<3->google-cloud-aiplatform<2,>=1.39.0->llama-index-vector-stores-vertexaivectorsearch) (0.7.0)\n",
      "Requirement already satisfied: pydantic-core==2.33.2 in c:\\users\\mt200\\onedrive\\desktop\\ai\\ai_challenge\\software\\back-end\\.venv\\lib\\site-packages (from pydantic<3->google-cloud-aiplatform<2,>=1.39.0->llama-index-vector-stores-vertexaivectorsearch) (2.33.2)\n",
      "Requirement already satisfied: typing-inspection>=0.4.0 in c:\\users\\mt200\\onedrive\\desktop\\ai\\ai_challenge\\software\\back-end\\.venv\\lib\\site-packages (from pydantic<3->google-cloud-aiplatform<2,>=1.39.0->llama-index-vector-stores-vertexaivectorsearch) (0.4.1)\n",
      "Requirement already satisfied: charset_normalizer<4,>=2 in c:\\users\\mt200\\onedrive\\desktop\\ai\\ai_challenge\\software\\back-end\\.venv\\lib\\site-packages (from requests<3.0.0dev,>=2.18.0->google-cloud-storage<3,>=2.16.0->llama-index-vector-stores-vertexaivectorsearch) (3.4.3)\n",
      "Requirement already satisfied: urllib3<3,>=1.21.1 in c:\\users\\mt200\\onedrive\\desktop\\ai\\ai_challenge\\software\\back-end\\.venv\\lib\\site-packages (from requests<3.0.0dev,>=2.18.0->google-cloud-storage<3,>=2.16.0->llama-index-vector-stores-vertexaivectorsearch) (2.5.0)\n",
      "Requirement already satisfied: greenlet>=1 in c:\\users\\mt200\\onedrive\\desktop\\ai\\ai_challenge\\software\\back-end\\.venv\\lib\\site-packages (from sqlalchemy>=1.4.49->sqlalchemy[asyncio]>=1.4.49->llama-index-core<0.14,>=0.13.3->llama-index) (3.2.4)\n",
      "Requirement already satisfied: colorama in c:\\users\\mt200\\onedrive\\desktop\\ai\\ai_challenge\\software\\back-end\\.venv\\lib\\site-packages (from tqdm<5,>=4.66.1->llama-index-core<0.14,>=0.13.3->llama-index) (0.4.6)\n",
      "Requirement already satisfied: mypy-extensions>=0.3.0 in c:\\users\\mt200\\onedrive\\desktop\\ai\\ai_challenge\\software\\back-end\\.venv\\lib\\site-packages (from typing-inspect>=0.8.0->llama-index-core<0.14,>=0.13.3->llama-index) (1.1.0)\n",
      "Requirement already satisfied: marshmallow<4.0.0,>=3.18.0 in c:\\users\\mt200\\onedrive\\desktop\\ai\\ai_challenge\\software\\back-end\\.venv\\lib\\site-packages (from dataclasses-json->llama-index-core<0.14,>=0.13.3->llama-index) (3.26.1)\n",
      "Requirement already satisfied: python-dotenv<2,>=1.0.1 in c:\\users\\mt200\\onedrive\\desktop\\ai\\ai_challenge\\software\\back-end\\.venv\\lib\\site-packages (from llama-cloud-services>=0.6.54->llama-parse>=0.5.0->llama-index-readers-llama-parse>=0.4.0->llama-index) (1.1.1)\n",
      "Requirement already satisfied: pyasn1<0.7.0,>=0.6.1 in c:\\users\\mt200\\onedrive\\desktop\\ai\\ai_challenge\\software\\back-end\\.venv\\lib\\site-packages (from pyasn1-modules>=0.2.1->google-auth<3.0.0,>=2.14.1->google-cloud-aiplatform<2,>=1.39.0->llama-index-vector-stores-vertexaivectorsearch) (0.6.1)\n",
      "Requirement already satisfied: six>=1.5 in c:\\users\\mt200\\onedrive\\desktop\\ai\\ai_challenge\\software\\back-end\\.venv\\lib\\site-packages (from python-dateutil<3.0.0,>=2.8.2->google-cloud-bigquery!=3.20.0,<4.0.0,>=1.15.0->google-cloud-aiplatform<2,>=1.39.0->llama-index-vector-stores-vertexaivectorsearch) (1.17.0)\n",
      "Requirement already satisfied: MarkupSafe>=2.0 in c:\\users\\mt200\\onedrive\\desktop\\ai\\ai_challenge\\software\\back-end\\.venv\\lib\\site-packages (from jinja2->banks<3,>=2.2.0->llama-index-core<0.14,>=0.13.3->llama-index) (3.0.2)\n"
     ]
    },
    {
     "name": "stderr",
     "output_type": "stream",
     "text": [
      "\n",
      "[notice] A new release of pip is available: 24.2 -> 25.2\n",
      "[notice] To update, run: python.exe -m pip install --upgrade pip\n"
     ]
    }
   ],
   "source": [
    "! pip install llama-index llama-index-vector-stores-vertexaivectorsearch llama-index-llms-vertex "
   ]
  },
  {
   "cell_type": "code",
   "execution_count": 39,
   "id": "ae7e26df",
   "metadata": {},
   "outputs": [
    {
     "name": "stdout",
     "output_type": "stream",
     "text": [
      "Requirement already satisfied: google-cloud-aiplatform in c:\\users\\mt200\\onedrive\\desktop\\ai\\ai_challenge\\software\\back-end\\.venv\\lib\\site-packages (1.111.0)\n",
      "Requirement already satisfied: google-api-core!=2.0.*,!=2.1.*,!=2.2.*,!=2.3.*,!=2.4.*,!=2.5.*,!=2.6.*,!=2.7.*,<3.0.0,>=1.34.1 in c:\\users\\mt200\\onedrive\\desktop\\ai\\ai_challenge\\software\\back-end\\.venv\\lib\\site-packages (from google-api-core[grpc]!=2.0.*,!=2.1.*,!=2.2.*,!=2.3.*,!=2.4.*,!=2.5.*,!=2.6.*,!=2.7.*,<3.0.0,>=1.34.1->google-cloud-aiplatform) (2.25.1)\n",
      "Requirement already satisfied: google-auth<3.0.0,>=2.14.1 in c:\\users\\mt200\\onedrive\\desktop\\ai\\ai_challenge\\software\\back-end\\.venv\\lib\\site-packages (from google-cloud-aiplatform) (2.40.3)\n",
      "Requirement already satisfied: proto-plus<2.0.0,>=1.22.3 in c:\\users\\mt200\\onedrive\\desktop\\ai\\ai_challenge\\software\\back-end\\.venv\\lib\\site-packages (from google-cloud-aiplatform) (1.26.1)\n",
      "Requirement already satisfied: protobuf!=4.21.0,!=4.21.1,!=4.21.2,!=4.21.3,!=4.21.4,!=4.21.5,<7.0.0,>=3.20.2 in c:\\users\\mt200\\onedrive\\desktop\\ai\\ai_challenge\\software\\back-end\\.venv\\lib\\site-packages (from google-cloud-aiplatform) (6.32.0)\n",
      "Requirement already satisfied: packaging>=14.3 in c:\\users\\mt200\\onedrive\\desktop\\ai\\ai_challenge\\software\\back-end\\.venv\\lib\\site-packages (from google-cloud-aiplatform) (25.0)\n",
      "Requirement already satisfied: google-cloud-storage<3.0.0,>=1.32.0 in c:\\users\\mt200\\onedrive\\desktop\\ai\\ai_challenge\\software\\back-end\\.venv\\lib\\site-packages (from google-cloud-aiplatform) (2.19.0)\n",
      "Requirement already satisfied: google-cloud-bigquery!=3.20.0,<4.0.0,>=1.15.0 in c:\\users\\mt200\\onedrive\\desktop\\ai\\ai_challenge\\software\\back-end\\.venv\\lib\\site-packages (from google-cloud-aiplatform) (3.36.0)\n",
      "Requirement already satisfied: google-cloud-resource-manager<3.0.0,>=1.3.3 in c:\\users\\mt200\\onedrive\\desktop\\ai\\ai_challenge\\software\\back-end\\.venv\\lib\\site-packages (from google-cloud-aiplatform) (1.14.2)\n",
      "Requirement already satisfied: shapely<3.0.0 in c:\\users\\mt200\\onedrive\\desktop\\ai\\ai_challenge\\software\\back-end\\.venv\\lib\\site-packages (from google-cloud-aiplatform) (2.1.1)\n",
      "Requirement already satisfied: google-genai<2.0.0,>=1.0.0 in c:\\users\\mt200\\onedrive\\desktop\\ai\\ai_challenge\\software\\back-end\\.venv\\lib\\site-packages (from google-cloud-aiplatform) (1.32.0)\n",
      "Requirement already satisfied: pydantic<3 in c:\\users\\mt200\\onedrive\\desktop\\ai\\ai_challenge\\software\\back-end\\.venv\\lib\\site-packages (from google-cloud-aiplatform) (2.11.7)\n",
      "Requirement already satisfied: typing_extensions in c:\\users\\mt200\\onedrive\\desktop\\ai\\ai_challenge\\software\\back-end\\.venv\\lib\\site-packages (from google-cloud-aiplatform) (4.15.0)\n",
      "Requirement already satisfied: docstring_parser<1 in c:\\users\\mt200\\onedrive\\desktop\\ai\\ai_challenge\\software\\back-end\\.venv\\lib\\site-packages (from google-cloud-aiplatform) (0.17.0)\n",
      "Requirement already satisfied: googleapis-common-protos<2.0.0,>=1.56.2 in c:\\users\\mt200\\onedrive\\desktop\\ai\\ai_challenge\\software\\back-end\\.venv\\lib\\site-packages (from google-api-core!=2.0.*,!=2.1.*,!=2.2.*,!=2.3.*,!=2.4.*,!=2.5.*,!=2.6.*,!=2.7.*,<3.0.0,>=1.34.1->google-api-core[grpc]!=2.0.*,!=2.1.*,!=2.2.*,!=2.3.*,!=2.4.*,!=2.5.*,!=2.6.*,!=2.7.*,<3.0.0,>=1.34.1->google-cloud-aiplatform) (1.70.0)\n",
      "Requirement already satisfied: requests<3.0.0,>=2.18.0 in c:\\users\\mt200\\onedrive\\desktop\\ai\\ai_challenge\\software\\back-end\\.venv\\lib\\site-packages (from google-api-core!=2.0.*,!=2.1.*,!=2.2.*,!=2.3.*,!=2.4.*,!=2.5.*,!=2.6.*,!=2.7.*,<3.0.0,>=1.34.1->google-api-core[grpc]!=2.0.*,!=2.1.*,!=2.2.*,!=2.3.*,!=2.4.*,!=2.5.*,!=2.6.*,!=2.7.*,<3.0.0,>=1.34.1->google-cloud-aiplatform) (2.32.4)\n",
      "Requirement already satisfied: grpcio<2.0.0,>=1.33.2 in c:\\users\\mt200\\onedrive\\desktop\\ai\\ai_challenge\\software\\back-end\\.venv\\lib\\site-packages (from google-api-core[grpc]!=2.0.*,!=2.1.*,!=2.2.*,!=2.3.*,!=2.4.*,!=2.5.*,!=2.6.*,!=2.7.*,<3.0.0,>=1.34.1->google-cloud-aiplatform) (1.74.0)\n",
      "Requirement already satisfied: grpcio-status<2.0.0,>=1.33.2 in c:\\users\\mt200\\onedrive\\desktop\\ai\\ai_challenge\\software\\back-end\\.venv\\lib\\site-packages (from google-api-core[grpc]!=2.0.*,!=2.1.*,!=2.2.*,!=2.3.*,!=2.4.*,!=2.5.*,!=2.6.*,!=2.7.*,<3.0.0,>=1.34.1->google-cloud-aiplatform) (1.74.0)\n",
      "Requirement already satisfied: cachetools<6.0,>=2.0.0 in c:\\users\\mt200\\onedrive\\desktop\\ai\\ai_challenge\\software\\back-end\\.venv\\lib\\site-packages (from google-auth<3.0.0,>=2.14.1->google-cloud-aiplatform) (5.5.2)\n",
      "Requirement already satisfied: pyasn1-modules>=0.2.1 in c:\\users\\mt200\\onedrive\\desktop\\ai\\ai_challenge\\software\\back-end\\.venv\\lib\\site-packages (from google-auth<3.0.0,>=2.14.1->google-cloud-aiplatform) (0.4.2)\n",
      "Requirement already satisfied: rsa<5,>=3.1.4 in c:\\users\\mt200\\onedrive\\desktop\\ai\\ai_challenge\\software\\back-end\\.venv\\lib\\site-packages (from google-auth<3.0.0,>=2.14.1->google-cloud-aiplatform) (4.9.1)\n",
      "Requirement already satisfied: google-cloud-core<3.0.0,>=2.4.1 in c:\\users\\mt200\\onedrive\\desktop\\ai\\ai_challenge\\software\\back-end\\.venv\\lib\\site-packages (from google-cloud-bigquery!=3.20.0,<4.0.0,>=1.15.0->google-cloud-aiplatform) (2.4.3)\n",
      "Requirement already satisfied: google-resumable-media<3.0.0,>=2.0.0 in c:\\users\\mt200\\onedrive\\desktop\\ai\\ai_challenge\\software\\back-end\\.venv\\lib\\site-packages (from google-cloud-bigquery!=3.20.0,<4.0.0,>=1.15.0->google-cloud-aiplatform) (2.7.2)\n",
      "Requirement already satisfied: python-dateutil<3.0.0,>=2.8.2 in c:\\users\\mt200\\onedrive\\desktop\\ai\\ai_challenge\\software\\back-end\\.venv\\lib\\site-packages (from google-cloud-bigquery!=3.20.0,<4.0.0,>=1.15.0->google-cloud-aiplatform) (2.9.0.post0)\n",
      "Requirement already satisfied: grpc-google-iam-v1<1.0.0,>=0.14.0 in c:\\users\\mt200\\onedrive\\desktop\\ai\\ai_challenge\\software\\back-end\\.venv\\lib\\site-packages (from google-cloud-resource-manager<3.0.0,>=1.3.3->google-cloud-aiplatform) (0.14.2)\n",
      "Requirement already satisfied: google-crc32c<2.0dev,>=1.0 in c:\\users\\mt200\\onedrive\\desktop\\ai\\ai_challenge\\software\\back-end\\.venv\\lib\\site-packages (from google-cloud-storage<3.0.0,>=1.32.0->google-cloud-aiplatform) (1.7.1)\n",
      "Requirement already satisfied: anyio<5.0.0,>=4.8.0 in c:\\users\\mt200\\onedrive\\desktop\\ai\\ai_challenge\\software\\back-end\\.venv\\lib\\site-packages (from google-genai<2.0.0,>=1.0.0->google-cloud-aiplatform) (4.10.0)\n",
      "Requirement already satisfied: httpx<1.0.0,>=0.28.1 in c:\\users\\mt200\\onedrive\\desktop\\ai\\ai_challenge\\software\\back-end\\.venv\\lib\\site-packages (from google-genai<2.0.0,>=1.0.0->google-cloud-aiplatform) (0.28.1)\n",
      "Requirement already satisfied: tenacity<9.2.0,>=8.2.3 in c:\\users\\mt200\\onedrive\\desktop\\ai\\ai_challenge\\software\\back-end\\.venv\\lib\\site-packages (from google-genai<2.0.0,>=1.0.0->google-cloud-aiplatform) (9.1.2)\n",
      "Requirement already satisfied: websockets<15.1.0,>=13.0.0 in c:\\users\\mt200\\onedrive\\desktop\\ai\\ai_challenge\\software\\back-end\\.venv\\lib\\site-packages (from google-genai<2.0.0,>=1.0.0->google-cloud-aiplatform) (15.0.1)\n",
      "Requirement already satisfied: annotated-types>=0.6.0 in c:\\users\\mt200\\onedrive\\desktop\\ai\\ai_challenge\\software\\back-end\\.venv\\lib\\site-packages (from pydantic<3->google-cloud-aiplatform) (0.7.0)\n",
      "Requirement already satisfied: pydantic-core==2.33.2 in c:\\users\\mt200\\onedrive\\desktop\\ai\\ai_challenge\\software\\back-end\\.venv\\lib\\site-packages (from pydantic<3->google-cloud-aiplatform) (2.33.2)\n",
      "Requirement already satisfied: typing-inspection>=0.4.0 in c:\\users\\mt200\\onedrive\\desktop\\ai\\ai_challenge\\software\\back-end\\.venv\\lib\\site-packages (from pydantic<3->google-cloud-aiplatform) (0.4.1)\n",
      "Requirement already satisfied: numpy>=1.21 in c:\\users\\mt200\\onedrive\\desktop\\ai\\ai_challenge\\software\\back-end\\.venv\\lib\\site-packages (from shapely<3.0.0->google-cloud-aiplatform) (2.3.2)\n",
      "Requirement already satisfied: idna>=2.8 in c:\\users\\mt200\\onedrive\\desktop\\ai\\ai_challenge\\software\\back-end\\.venv\\lib\\site-packages (from anyio<5.0.0,>=4.8.0->google-genai<2.0.0,>=1.0.0->google-cloud-aiplatform) (3.10)\n",
      "Requirement already satisfied: sniffio>=1.1 in c:\\users\\mt200\\onedrive\\desktop\\ai\\ai_challenge\\software\\back-end\\.venv\\lib\\site-packages (from anyio<5.0.0,>=4.8.0->google-genai<2.0.0,>=1.0.0->google-cloud-aiplatform) (1.3.1)\n",
      "Requirement already satisfied: certifi in c:\\users\\mt200\\onedrive\\desktop\\ai\\ai_challenge\\software\\back-end\\.venv\\lib\\site-packages (from httpx<1.0.0,>=0.28.1->google-genai<2.0.0,>=1.0.0->google-cloud-aiplatform) (2025.8.3)\n",
      "Requirement already satisfied: httpcore==1.* in c:\\users\\mt200\\onedrive\\desktop\\ai\\ai_challenge\\software\\back-end\\.venv\\lib\\site-packages (from httpx<1.0.0,>=0.28.1->google-genai<2.0.0,>=1.0.0->google-cloud-aiplatform) (1.0.9)\n",
      "Requirement already satisfied: h11>=0.16 in c:\\users\\mt200\\onedrive\\desktop\\ai\\ai_challenge\\software\\back-end\\.venv\\lib\\site-packages (from httpcore==1.*->httpx<1.0.0,>=0.28.1->google-genai<2.0.0,>=1.0.0->google-cloud-aiplatform) (0.16.0)\n",
      "Requirement already satisfied: pyasn1<0.7.0,>=0.6.1 in c:\\users\\mt200\\onedrive\\desktop\\ai\\ai_challenge\\software\\back-end\\.venv\\lib\\site-packages (from pyasn1-modules>=0.2.1->google-auth<3.0.0,>=2.14.1->google-cloud-aiplatform) (0.6.1)\n",
      "Requirement already satisfied: six>=1.5 in c:\\users\\mt200\\onedrive\\desktop\\ai\\ai_challenge\\software\\back-end\\.venv\\lib\\site-packages (from python-dateutil<3.0.0,>=2.8.2->google-cloud-bigquery!=3.20.0,<4.0.0,>=1.15.0->google-cloud-aiplatform) (1.17.0)\n",
      "Requirement already satisfied: charset_normalizer<4,>=2 in c:\\users\\mt200\\onedrive\\desktop\\ai\\ai_challenge\\software\\back-end\\.venv\\lib\\site-packages (from requests<3.0.0,>=2.18.0->google-api-core!=2.0.*,!=2.1.*,!=2.2.*,!=2.3.*,!=2.4.*,!=2.5.*,!=2.6.*,!=2.7.*,<3.0.0,>=1.34.1->google-api-core[grpc]!=2.0.*,!=2.1.*,!=2.2.*,!=2.3.*,!=2.4.*,!=2.5.*,!=2.6.*,!=2.7.*,<3.0.0,>=1.34.1->google-cloud-aiplatform) (3.4.3)\n",
      "Requirement already satisfied: urllib3<3,>=1.21.1 in c:\\users\\mt200\\onedrive\\desktop\\ai\\ai_challenge\\software\\back-end\\.venv\\lib\\site-packages (from requests<3.0.0,>=2.18.0->google-api-core!=2.0.*,!=2.1.*,!=2.2.*,!=2.3.*,!=2.4.*,!=2.5.*,!=2.6.*,!=2.7.*,<3.0.0,>=1.34.1->google-api-core[grpc]!=2.0.*,!=2.1.*,!=2.2.*,!=2.3.*,!=2.4.*,!=2.5.*,!=2.6.*,!=2.7.*,<3.0.0,>=1.34.1->google-cloud-aiplatform) (2.5.0)\n",
      "Note: you may need to restart the kernel to use updated packages.\n"
     ]
    },
    {
     "name": "stderr",
     "output_type": "stream",
     "text": [
      "\n",
      "[notice] A new release of pip is available: 24.2 -> 25.2\n",
      "[notice] To update, run: python.exe -m pip install --upgrade pip\n"
     ]
    }
   ],
   "source": [
    "%pip install google-cloud-aiplatform"
   ]
  },
  {
   "cell_type": "markdown",
   "id": "a1962857",
   "metadata": {},
   "source": [
    "## Create Index and deploy it to an Endpoint\n",
    "\n",
    "- This section demonstrates creating a new index and deploying it to an endpoint."
   ]
  },
  {
   "cell_type": "code",
   "execution_count": 1,
   "id": "ede7e46f",
   "metadata": {},
   "outputs": [],
   "source": [
    "# TODO : Set values as per your requirements\n",
    "\n",
    "# Project and Storage Constants\n",
    "PROJECT_ID = \"gen-lang-client-0974620078\"\n",
    "REGION = \"asia-southeast1\"\n",
    "GCS_BUCKET_NAME = \"image-retrieval\"\n",
    "GCS_BUCKET_URI = f\"gs://{GCS_BUCKET_NAME}\"\n",
    "\n",
    "# The number of dimensions for the textembedding-gecko@003 is 768\n",
    "# If other embedder is used, the dimensions would probably need to change.\n",
    "VS_DIMENSIONS = 768\n",
    "\n",
    "# Vertex AI Vector Search Index configuration\n",
    "# parameter description here\n",
    "# https://cloud.google.com/python/docs/reference/aiplatform/latest/google.cloud.aiplatform.MatchingEngineIndex#google_cloud_aiplatform_MatchingEngineIndex_create_tree_ah_index\n",
    "VS_INDEX_NAME = \"image-retrieval-index\"  # @param {type:\"string\"}\n",
    "VS_INDEX_ENDPOINT_NAME = \"image-retrieval-endpoint\"  # @param {type:\"string\"}"
   ]
  },
  {
   "cell_type": "code",
   "execution_count": 2,
   "id": "4a8a8741",
   "metadata": {},
   "outputs": [],
   "source": [
    "from google.cloud import aiplatform"
   ]
  },
  {
   "cell_type": "code",
   "execution_count": 3,
   "id": "a1852715",
   "metadata": {},
   "outputs": [],
   "source": [
    "from google.oauth2 import service_account\n",
    "\n",
    "credentials = service_account.Credentials.from_service_account_file(\n",
    "    \"C:/Users/mt200/OneDrive/Desktop/AI/AI_challenge/software/back-end/service-account.json\"\n",
    ")"
   ]
  },
  {
   "cell_type": "code",
   "execution_count": 4,
   "id": "750b37d9",
   "metadata": {},
   "outputs": [],
   "source": [
    "aiplatform.init(project=PROJECT_ID, location=REGION, credentials=credentials)"
   ]
  },
  {
   "cell_type": "markdown",
   "id": "3b2c2ee0",
   "metadata": {},
   "source": [
    "### Create Cloud Storage bucket\n",
    "```sh\n",
    "! gsutil mb -l $REGION -p $PROJECT_ID $GCS_BUCKET_URI\n",
    "```"
   ]
  },
  {
   "cell_type": "code",
   "execution_count": 44,
   "id": "3f3b373f",
   "metadata": {},
   "outputs": [
    {
     "name": "stderr",
     "output_type": "stream",
     "text": [
      "Creating gs://image-retrieval/...\n",
      "ServiceException: 409 A Cloud Storage bucket named 'image-retrieval' already exists. Try another name. Bucket names must be globally unique across all Google Cloud projects, including those outside of your organization.\n"
     ]
    }
   ],
   "source": [
    "! gsutil mb -l $REGION -p $PROJECT_ID $GCS_BUCKET_URI"
   ]
  },
  {
   "cell_type": "markdown",
   "id": "47e12ea1",
   "metadata": {},
   "source": [
    "### Create an empty Index\n",
    "\n",
    "**Note :** While creating an index you should specify an \"index_update_method\" - `BATCH_UPDATE` or `STREAM_UPDATE`\n",
    "\n",
    "> A batch index is for when you want to update your index in a batch, with data which has been stored over a set amount of time, like systems which are processed weekly or monthly.\n",
    ">\n",
    "> A streaming index is when you want index data to be updated as new data is added to your datastore, for instance, if you have a bookstore and want to show new inventory online as soon as possible.\n",
    ">\n",
    "> Which type you choose is important, since setup and requirements are different.\n",
    "\n",
    "Refer [Official Documentation](https://cloud.google.com/vertex-ai/docs/vector-search/create-manage-index) and [API reference](https://cloud.google.com/python/docs/reference/aiplatform/latest/google.cloud.aiplatform.MatchingEngineIndex#google_cloud_aiplatform_MatchingEngineIndex_create_tree_ah_index) for more details on configuring indexes"
   ]
  },
  {
   "cell_type": "code",
   "execution_count": 45,
   "id": "ee3cd11d",
   "metadata": {},
   "outputs": [
    {
     "name": "stdout",
     "output_type": "stream",
     "text": [
      "Creating Vector Search index image-retrieval-index ...\n",
      "Creating MatchingEngineIndex\n",
      "Create MatchingEngineIndex backing LRO: projects/284454080854/locations/asia-southeast1/indexes/5015699367030423552/operations/6300847590237798400\n",
      "MatchingEngineIndex created. Resource name: projects/284454080854/locations/asia-southeast1/indexes/5015699367030423552\n",
      "To use this MatchingEngineIndex in another session:\n",
      "index = aiplatform.MatchingEngineIndex('projects/284454080854/locations/asia-southeast1/indexes/5015699367030423552')\n",
      "Vector Search index image-retrieval-index created with resource name projects/284454080854/locations/asia-southeast1/indexes/5015699367030423552\n"
     ]
    }
   ],
   "source": [
    "# NOTE : This operation can take upto 30 seconds\n",
    "\n",
    "# check if index exists\n",
    "index_names = [\n",
    "    index.resource_name\n",
    "    for index in aiplatform.MatchingEngineIndex.list(\n",
    "        filter=f\"display_name={VS_INDEX_NAME}\"\n",
    "    )\n",
    "]\n",
    "\n",
    "if len(index_names) == 0:\n",
    "    print(f\"Creating Vector Search index {VS_INDEX_NAME} ...\")\n",
    "    vs_index = aiplatform.MatchingEngineIndex.create_tree_ah_index(\n",
    "        display_name=VS_INDEX_NAME,\n",
    "        dimensions=VS_DIMENSIONS,\n",
    "        distance_measure_type=\"DOT_PRODUCT_DISTANCE\",\n",
    "        shard_size=\"SHARD_SIZE_SMALL\",\n",
    "        index_update_method=\"STREAM_UPDATE\",  \n",
    "        approximate_neighbors_count=200,\n",
    "    )\n",
    "    print(\n",
    "        f\"Vector Search index {vs_index.display_name} created with resource name {vs_index.resource_name}\"\n",
    "    )\n",
    "else:\n",
    "    vs_index = aiplatform.MatchingEngineIndex(index_name=index_names[0])\n",
    "    print(\n",
    "        f\"Vector Search index {vs_index.display_name} exists with resource name {vs_index.resource_name}\"\n",
    "    )"
   ]
  },
  {
   "cell_type": "markdown",
   "id": "3db1dacc",
   "metadata": {},
   "source": [
    "### Create an Endpoint\n",
    "\n",
    "To use the index, you need to create an index endpoint. It works as a server instance accepting query requests for your index. An endpoint can be a [public endpoint](https://cloud.google.com/vertex-ai/docs/vector-search/deploy-index-public) or a [private endpoint](https://cloud.google.com/vertex-ai/docs/vector-search/deploy-index-vpc).\n",
    "\n",
    "Let's create a public endpoint."
   ]
  },
  {
   "cell_type": "code",
   "execution_count": 46,
   "id": "610c608b",
   "metadata": {},
   "outputs": [
    {
     "name": "stdout",
     "output_type": "stream",
     "text": [
      "Vector Search index endpoint image-retrieval-endpoint exists with resource name projects/284454080854/locations/asia-southeast1/indexEndpoints/5917149368225366016\n"
     ]
    }
   ],
   "source": [
    "endpoint_names = [\n",
    "    endpoint.resource_name\n",
    "    for endpoint in aiplatform.MatchingEngineIndexEndpoint.list(\n",
    "        filter=f\"display_name={VS_INDEX_ENDPOINT_NAME}\"\n",
    "    )\n",
    "]\n",
    "\n",
    "if len(endpoint_names) == 0:\n",
    "    print(\n",
    "        f\"Creating Vector Search index endpoint {VS_INDEX_ENDPOINT_NAME} ...\"\n",
    "    )\n",
    "    vs_endpoint = aiplatform.MatchingEngineIndexEndpoint.create(\n",
    "        display_name=VS_INDEX_ENDPOINT_NAME, public_endpoint_enabled=True\n",
    "    )\n",
    "    print(\n",
    "        f\"Vector Search index endpoint {vs_endpoint.display_name} created with resource name {vs_endpoint.resource_name}\"\n",
    "    )\n",
    "else:\n",
    "    vs_endpoint = aiplatform.MatchingEngineIndexEndpoint(\n",
    "        index_endpoint_name=endpoint_names[0]\n",
    "    )\n",
    "    print(\n",
    "        f\"Vector Search index endpoint {vs_endpoint.display_name} exists with resource name {vs_endpoint.resource_name}\"\n",
    "    )"
   ]
  },
  {
   "cell_type": "markdown",
   "id": "78ec0a15",
   "metadata": {},
   "source": [
    "### Deploy Index to the Endpoint\n",
    "\n",
    "With the index endpoint, deploy the index by specifying a unique deployed index ID.\n",
    "\n",
    "**NOTE : This operation can take upto 30 minutes.**"
   ]
  },
  {
   "cell_type": "code",
   "execution_count": 49,
   "id": "6430f671",
   "metadata": {},
   "outputs": [],
   "source": [
    "deployed_index_id=\"image_retrieval_deploy_index\""
   ]
  },
  {
   "cell_type": "code",
   "execution_count": null,
   "id": "0f990ead",
   "metadata": {},
   "outputs": [
    {
     "name": "stdout",
     "output_type": "stream",
     "text": [
      "Deploying Vector Search index image-retrieval-index at endpoint image-retrieval-endpoint ...\n",
      "Deploying index MatchingEngineIndexEndpoint index_endpoint: projects/284454080854/locations/asia-southeast1/indexEndpoints/5917149368225366016\n",
      "Deploy index MatchingEngineIndexEndpoint index_endpoint backing LRO: projects/284454080854/locations/asia-southeast1/indexEndpoints/5917149368225366016/operations/8559402803364102144\n"
     ]
    }
   ],
   "source": [
    "# check if endpoint exists\n",
    "index_endpoints = [\n",
    "    (deployed_index.index_endpoint, deployed_index.deployed_index_id)\n",
    "    for deployed_index in vs_index.deployed_indexes\n",
    "]\n",
    "\n",
    "if len(index_endpoints) == 0:\n",
    "    print(\n",
    "        f\"Deploying Vector Search index {vs_index.display_name} at endpoint {vs_endpoint.display_name} ...\"\n",
    "    )\n",
    "    vs_deployed_index = vs_endpoint.deploy_index(\n",
    "        index=vs_index,\n",
    "        deployed_index_id=deployed_index_id,  # ✅ valid ID\n",
    "        display_name=VS_INDEX_NAME,\n",
    "        machine_type=\"e2-standard-16\",\n",
    "        min_replica_count=1,\n",
    "        max_replica_count=1,\n",
    "    )\n",
    "    print(\n",
    "        f\"Vector Search index {vs_index.display_name} is deployed at endpoint {vs_deployed_index.display_name}\"\n",
    "    )\n",
    "else:\n",
    "    vs_deployed_index = aiplatform.MatchingEngineIndexEndpoint(\n",
    "        index_endpoint_name=index_endpoints[0][0]\n",
    "    )\n",
    "    print(\n",
    "        f\"Vector Search index {vs_index.display_name} is already deployed at endpoint {vs_deployed_index.display_name}\"\n",
    "    )"
   ]
  },
  {
   "cell_type": "markdown",
   "id": "6d672cca",
   "metadata": {},
   "source": [
    "## Create Vector Store from texts\n",
    "\n",
    "NOTE : If you have existing Vertex AI Vector Search Index and Endpoints, you can assign them using following code:"
   ]
  },
  {
   "cell_type": "code",
   "execution_count": 5,
   "id": "a49618a7",
   "metadata": {},
   "outputs": [],
   "source": [
    "aiplatform.init(project=PROJECT_ID, location=REGION, credentials=credentials)"
   ]
  },
  {
   "cell_type": "code",
   "execution_count": 6,
   "id": "6d594eeb",
   "metadata": {},
   "outputs": [
    {
     "name": "stdout",
     "output_type": "stream",
     "text": [
      "✅ Index loaded: projects/284454080854/locations/asia-southeast1/indexes/5015699367030423552\n",
      "✅ Endpoint loaded: projects/284454080854/locations/asia-southeast1/indexEndpoints/5917149368225366016\n"
     ]
    }
   ],
   "source": [
    "# Get index by display name\n",
    "indexes = aiplatform.MatchingEngineIndex.list(filter='display_name=\"image-retrieval-index\"')\n",
    "if not indexes:\n",
    "    raise ValueError(\"Index with display_name='image-retrieval-index' not found.\")\n",
    "\n",
    "# Use resource_name, not display_name\n",
    "vs_index = aiplatform.MatchingEngineIndex(index_name=indexes[0].resource_name)\n",
    "print(f\"✅ Index loaded: {vs_index.resource_name}\")\n",
    "\n",
    "# Same for endpoint\n",
    "endpoints = aiplatform.MatchingEngineIndexEndpoint.list(filter='display_name=\"image-retrieval-endpoint\"')\n",
    "if not endpoints:\n",
    "    raise ValueError(\"Endpoint with display_name='image-retrieval-endpoint' not found.\")\n",
    "\n",
    "vs_endpoint = aiplatform.MatchingEngineIndexEndpoint(index_endpoint_name=endpoints[0].resource_name)\n",
    "print(f\"✅ Endpoint loaded: {vs_endpoint.resource_name}\")"
   ]
  },
  {
   "cell_type": "markdown",
   "id": "405361cf",
   "metadata": {},
   "source": [
    "### Create a simple vector store from plain text without metadata filters"
   ]
  },
  {
   "cell_type": "code",
   "execution_count": 7,
   "id": "655cac19",
   "metadata": {},
   "outputs": [],
   "source": [
    "# import modules needed\n",
    "from llama_index.core import (\n",
    "    StorageContext,\n",
    "    Settings,\n",
    "    VectorStoreIndex,\n",
    "    SimpleDirectoryReader,\n",
    ")\n",
    "from llama_index.core.schema import TextNode, ImageNode\n",
    "from llama_index.core.vector_stores.types import (\n",
    "    MetadataFilters,\n",
    "    MetadataFilter,\n",
    "    FilterOperator,\n",
    ")\n",
    "from llama_index.llms.vertex import Vertex\n",
    "from llama_index.embeddings.vertex import VertexTextEmbedding\n",
    "from llama_index.vector_stores.vertexaivectorsearch import VertexAIVectorStore"
   ]
  },
  {
   "cell_type": "markdown",
   "id": "ef475ba1",
   "metadata": {},
   "source": [
    "### Create Image Node"
   ]
  },
  {
   "cell_type": "code",
   "execution_count": 9,
   "id": "a9109346",
   "metadata": {},
   "outputs": [
    {
     "name": "stdout",
     "output_type": "stream",
     "text": [
      "✅ Tổng số ImageNode: 168096\n"
     ]
    }
   ],
   "source": [
    "import os\n",
    "import json\n",
    "from typing import List\n",
    "\n",
    "# Create all note\n",
    "base_dir = \"C:/Users/mt200/OneDrive/Desktop/AI/AI_challenge/feature_extraction/embedding-image\"\n",
    "\n",
    "image_nodes: List[ImageNode] = []\n",
    "\n",
    "# Duyệt tất cả file trong thư mục\n",
    "for filename in os.listdir(base_dir):\n",
    "    if filename.endswith(\".json\"):\n",
    "        file_path = os.path.join(base_dir, filename)\n",
    "        with open(file_path, \"r\", encoding=\"utf-8\") as f:\n",
    "            try:\n",
    "                data = json.load(f)\n",
    "                # Nếu file chứa một mảng item\n",
    "                if isinstance(data, list):\n",
    "                    for item in data:\n",
    "                        image_node = ImageNode(\n",
    "                            id_=item[\"id\"],\n",
    "                            embedding=item[\"embedding\"],\n",
    "                            metadata=item[\"metadata\"],\n",
    "                            image_url=item[\"metadata\"][\"image_url\"]\n",
    "                        )\n",
    "                        image_nodes.append(image_node)\n",
    "                # Nếu file chỉ chứa 1 object\n",
    "                elif isinstance(data, dict):\n",
    "                    image_node = ImageNode(\n",
    "                        id_=data[\"id\"],\n",
    "                        embedding=data[\"embedding\"],\n",
    "                        metadata=data[\"metadata\"],\n",
    "                        image_url=data[\"metadata\"][\"image_url\"]\n",
    "                    )\n",
    "                    image_nodes.append(image_node)\n",
    "            except json.JSONDecodeError as e:\n",
    "                print(f\"❌ Lỗi đọc file {filename}: {e}\")\n",
    "\n",
    "print(f\"✅ Tổng số ImageNode: {len(image_nodes)}\")\n"
   ]
  },
  {
   "cell_type": "code",
   "execution_count": 11,
   "id": "a7d0c5be",
   "metadata": {},
   "outputs": [
    {
     "data": {
      "text/plain": [
       "ImageNode(id_='L30_V096_F084', embedding=[0.025079943239688873, -0.04452181234955788, -0.01910569705069065, 0.02360299415886402, -0.01714656874537468, 0.022217782214283943, -0.01714448817074299, 0.01847955770790577, -0.025741299614310265, -0.02782304212450981, -0.002923137042671442, -0.06686684489250183, -0.014682747423648834, -0.03318243473768234, -0.00877455249428749, -0.011630440130829811, 0.014482776634395123, -0.002502479823306203, 0.0028956662863492966, -0.042535025626420975, 0.04922705888748169, -0.00548683712258935, -0.02484024688601494, 0.004097541328519583, 0.0023835054598748684, -0.006029616575688124, 0.013425232842564583, -0.0277257040143013, -0.01399318128824234, -0.006962329614907503, -0.0037959017790853977, -0.006188271567225456, -0.009430651552975178, 0.023167526349425316, 0.006705515086650848, -0.028247574344277382, -0.021581493318080902, -0.007011040113866329, 0.008553418330848217, -0.005276231560856104, 0.0035844400990754366, -0.026239732280373573, 0.025624902918934822, 0.0004908543778583407, 0.004854802042245865, 0.049520257860422134, 0.00038522318936884403, -0.008339902386069298, 0.025876784697175026, 0.02513868920505047, 0.0101082818582654, 0.03852561116218567, 0.02970851957798004, 0.012170634232461452, 0.021727588027715683, 0.03725845739245415, -0.011237780563533306, -0.02427379973232746, -0.046669140458106995, 0.06294165551662445, 0.012296171858906746, -0.0015808353200554848, -0.028537413105368614, -0.00881652906537056, -0.004038776736706495, -0.04068755730986595, -0.012289537116885185, -0.027422387152910233, -0.00355156185105443, -0.011682441458106041, 0.048561155796051025, -0.013284752145409584, 0.011195623315870762, -0.009255001321434975, -0.012402326799929142, -0.01753595657646656, -0.01706884056329727, 0.008201541379094124, 0.3248254060745239, 0.004009051248431206, -0.012472369708120823, -0.054172221571207047, 0.006173310335725546, 0.006925896275788546, -0.0010408206144347787, 0.03753526881337166, -0.04228254780173302, 0.0008153139497153461, -0.03634301573038101, 0.06568057090044022, 0.007855912670493126, -0.015343992039561272, -0.0002436095237499103, 0.02115464210510254, -0.002486050594598055, -0.01316758245229721, 0.013076800853013992, 0.012990356422960758, 7.143399125197902e-05, -0.00021858625405002385, 0.00038986571598798037, 0.02693452127277851, -0.013425325974822044, -0.0009576047887094319, -0.009851858019828796, 0.011735321022570133, 0.00306685664691031, -0.01911555789411068, 0.03947538137435913, 0.00564371095970273, -0.0035484943073242903, -0.00030357184004969895, 0.03582095727324486, 0.012149139307439327, 0.030801067128777504, -0.027991143986582756, 0.0313161239027977, -0.04861391708254814, -0.021113216876983643, 0.004673514980822802, -0.004445053171366453, -0.015115459449589252, -0.011519105173647404, -0.043092332780361176, -0.00013766669144388288, -0.011899803765118122, 0.04180944710969925, -0.023752616718411446, 0.08956603705883026, 0.015450550243258476, 0.016969477757811546, 0.0022858583834022284, -0.012086869217455387, -0.055679142475128174, -0.03383524343371391, -0.009142453782260418, -0.04959110543131828, 0.007158408872783184, 0.09334936738014221, -0.004187183454632759, 0.003545945044606924, -0.00306289317086339, 0.00990400929003954, -0.010012110695242882, -0.02915230207145214, -0.0001391718105878681, -0.0058520217426121235, -0.0011261857580393553, -0.004228889010846615, -0.03204885497689247, 0.018246065825223923, 0.006437447387725115, -0.005620663519948721, 0.2478548139333725, 0.04377005621790886, -0.012229072861373425, -0.024917757138609886, -0.011448146775364876, 0.0013753415551036596, 0.017392070963978767, -0.004417030606418848, 0.08919655531644821, -0.00018343658302910626, 0.004212578292936087, -0.015547261573374271, 0.0022149356082081795, -0.01876889355480671, -0.005378175992518663, -0.0077726272866129875, 0.044363971799612045, -0.06463395804166794, 0.04393237456679344, -0.02547430247068405, -0.00646688137203455, 0.042834870517253876, 0.022366538643836975, -0.008343606255948544, 0.040067754685878754, -0.047678377479314804, 0.016039172187447548, 0.10332468897104263, -0.02730453386902809, 0.012707330286502838, -0.004169600084424019, 0.013590261340141296, 0.01090487651526928, -0.017381995916366577, 0.031513456255197525, 0.016739176586270332, -0.030837560072541237, 0.015462788753211498, -0.006368392147123814, -0.029398968443274498, 0.05314813181757927, -0.02776823751628399, 0.033545758575201035, -0.07146269828081131, -0.003976727835834026, 0.024994684383273125, -0.0009117774316109717, 0.010576258413493633, 0.020377790555357933, -0.005073013715445995, -0.040835242718458176, -0.016833102330565453, -0.009545723907649517, -0.02240646630525589, 0.006575756706297398, -0.014682821929454803, -0.03078831546008587, -0.022635648027062416, -0.0123410290107131, 0.010363335721194744, 0.03308240696787834, -0.009671970270574093, 0.010049931704998016, 0.02003079280257225, -0.02105705812573433, 0.036992888897657394, -0.031381454318761826, -0.013275221921503544, -0.0034984182566404343, 0.019240770488977432, -0.020056651905179024, -0.03188265487551689, -0.002707980340346694, 0.02676529623568058, 0.01540370937436819, -0.004245639778673649, -0.026729224249720573, 0.040180835872888565, 0.014361442998051643, 0.044688478112220764, -0.03519640862941742, 0.012553103268146515, -0.01033950038254261, 0.013388724066317081, -0.045952726155519485, 0.014925423078238964, -0.013288776390254498, -0.0068008485250175, -0.013847590424120426, 0.025630855932831764, 0.009016096591949463, 0.02478855848312378, 0.0032771676778793335, 0.029403656721115112, 0.0024261942598968744, -0.01814938709139824, -0.00023233043611980975, -0.011812209151685238, 0.022366072982549667, -0.0031476260628551245, -0.03545958921313286, -0.025485850870609283, -0.0032520268578082323, 0.023584773764014244, 0.012795849703252316, -0.011385752819478512, 0.0006506528588943183, -0.05901468172669411, -0.0005555697134695947, -0.004183297045528889, 0.01386866346001625, 0.001843716949224472, -6.76329800626263e-05, 0.06597965955734253, -0.015290917828679085, -0.02314968779683113, 0.022666383534669876, 0.021869473159313202, -0.033894624561071396, -0.03229512274265289, -0.010749542154371738, 0.03637174889445305, 0.009721494279801846, -0.0036169339437037706, -0.029613062739372253, 0.010515011847019196, 0.0018918380374088883, -0.0420009009540081, 0.005315782502293587, 0.0404352992773056, 0.021842096000909805, -0.025107141584157944, 0.016719767823815346, 0.03713054582476616, -0.007612346671521664, 0.031390443444252014, 0.0038446078542619944, -0.025951143354177475, 0.014915300533175468, 0.005096224136650562, 0.007683975156396627, 0.011928711086511612, 0.015951376408338547, 0.038680948317050934, -0.026755519211292267, -0.1498039811849594, 0.023705875501036644, -0.0008329694392159581, 0.20364895462989807, 0.03737678751349449, 0.020253805443644524, 0.005175879690796137, 0.019072124734520912, 0.025366486981511116, -0.006066553760319948, -0.002382490783929825, -0.020370637997984886, 0.02219413034617901, 0.0018361241091042757, 0.0024610920809209347, -0.005122591741383076, 0.017195405438542366, 0.011585543863475323, 0.006803569383919239, 0.051182813942432404, 0.024608364328742027, -0.00301653821952641, -0.039672769606113434, 0.010895902290940285, 0.007175752893090248, 0.04851570352911949, 0.040867503732442856, 0.0008422961109317839, -0.02596108987927437, 0.023432288318872452, 0.001228422042913735, -0.021406615152955055, -0.0016196873039007187, 0.04652630537748337, 0.02062014862895012, 0.049245674163103104, -0.01746951974928379, -0.004931014962494373, 0.016375262290239334, -0.013601178303360939, -0.018127018585801125, -0.006472085602581501, -0.0036487567704170942, -0.01865142025053501, -0.021969154477119446, 0.024355221539735794, 0.008847212418913841, -0.00835515558719635, 0.005181377287954092, 0.0332864373922348, 0.009655348025262356, -0.047500789165496826, 0.01113612949848175, -0.009486012160778046, -0.015399472787976265, 0.014993411488831043, 0.004535153973847628, 0.020309142768383026, -0.008564703166484833, -0.0056834835559129715, 0.03800556808710098, 0.005651171784847975, -0.027990741655230522, 0.002498195506632328, -0.0016665576258674264, -0.006088731344789267, 0.02267138659954071, -0.0145180094987154, -0.011290428228676319, 0.00673010153695941, 0.04028379172086716, 0.023120570927858353, -0.031304456293582916, 0.02400236949324608, -0.006411765702068806, 0.020594479516148567, -0.021102286875247955, 0.0127166248857975, 0.01358520146459341, 0.01143442839384079, 0.02686167135834694, 0.043143294751644135, -0.019981836900115013, 0.0015701930969953537, -0.005224256310611963, -0.009247572161257267, -0.004954448435455561, -0.020173227414488792, 0.01900431513786316, 0.04182114452123642, 0.0029530676547437906, -0.01756192371249199, -0.015827570110559464, -0.0036564150359481573, -0.006989617832005024, 0.021008916199207306, 0.041618023067712784, 0.00765136769041419, -0.014216895215213299, 0.014889994636178017, -0.028397129848599434, 0.0336490198969841, -0.003458965802565217, -0.0041747987270355225, 0.023731283843517303, 0.10834738612174988, 0.06659352034330368, 0.0028533933218568563, 0.006240071728825569, 0.021154111251235008, 0.025647642090916634, -0.013053564354777336, 0.05382215231657028, 0.011250203475356102, 0.0018139519961550832, 0.04499587044119835, -0.021403536200523376, 0.016833465546369553, 0.006428072229027748, -0.015677686780691147, -0.025641223415732384, -0.028617486357688904, -0.016559671610593796, -0.003597905393689871, -0.03303518518805504, -0.04217590019106865, -0.012220348231494427, 0.007447690702974796, -0.0020350595004856586, -0.00659848703071475, 0.02594566158950329, 0.004892741795629263, -0.024590782821178436, 0.021898096427321434, 0.009517173282802105, -0.027930887416005135, -0.006988240871578455, 0.00135301542468369, -0.03548198565840721, 0.040409550070762634, -0.0003404919698368758, -0.032233212143182755, -0.015343855135142803, -0.028140777722001076, 0.020411385223269463, -0.1298433244228363, -0.015716392546892166, 0.011560305021703243, -0.039477668702602386, -0.00729800621047616, 0.026528870686888695, 0.017517048865556717, 0.028631430119276047, 0.02241075225174427, 0.021562136709690094, -0.010596256703138351, 0.032412853091955185, -0.03447815030813217, -0.01658632606267929, -0.007329041603952646, 0.011931031011044979, 0.0025102579966187477, -0.007300460245460272, -0.002847847295925021, -0.027254149317741394, 0.06436434388160706, 0.03740522637963295, -0.008542223833501339, -0.01646576076745987, 0.03300702944397926, -0.01552728284150362, 0.022998031228780746, -0.03659497946500778, -0.06378766149282455, -0.0017834656173363328, 0.02273523062467575, 0.003989262040704489, -0.013575735501945019, -0.028826171532273293, -0.0030312289018183947, -0.019801132380962372, -0.02593621239066124, 0.005525646265596151, -0.03541131317615509, -0.0009219073690474033, 0.030760450288653374, 0.09760706126689911, 0.002905542030930519, -0.03945920988917351, -0.024089224636554718, 0.01175367459654808, -0.03578600659966469, -0.016542090103030205, -0.013839134015142918, 0.0025120817590504885, -0.014593889936804771, -0.027039458975195885, -0.017190974205732346, -0.03436363488435745, 0.0035752858966588974, 0.023699574172496796, 0.016892217099666595, -0.04313405603170395, 0.023839693516492844, 0.012182548642158508, 0.01585950143635273, -0.023597104474902153, 0.005036116577684879, 0.006915320176631212, -0.03380569815635681, 0.02711331658065319, -0.0019661246333271265, -0.018058355897665024, -0.031518179923295975, -0.05538775771856308, -0.024374617263674736, 0.023765230551362038, -0.029534297063946724, 0.011260246858000755, 0.03122103214263916, 0.02535480074584484, 0.00010163577826460823, -0.014094537124037743, 0.00607331283390522, 0.017730319872498512, -0.04638027399778366, -0.05044054612517357, -0.018200766295194626, -0.039988599717617035, 0.0007261168211698532, -0.017487701028585434, 0.015021412633359432, 0.045164257287979126, 0.009888330474495888, 0.03124549612402916, -0.018910393118858337, 0.007454449776560068, 0.04067663103342056, 0.033266596496105194, 0.03202657401561737, -0.028745833784341812, -0.00762456888332963, -0.0003211314033251256, -0.0032492580357939005, 0.00032405604724772274, -0.02338613197207451, -0.04168330505490303, 0.007499535568058491, -0.015748370438814163, -0.0023471692111343145, -0.031370848417282104, -0.025169892236590385, -0.014012881554663181, -0.018294021487236023, 0.03622524067759514, -0.010257231071591377, -0.029576685279607773, -0.0006720800301991403, 0.019430601969361305, -0.017168283462524414, -0.010403946973383427, 0.03749074786901474, -0.04196600988507271, -0.047979146242141724, -0.01672804355621338, -0.03763801231980324, -0.012105876579880714, 0.02762514352798462, -0.015284929424524307, 0.006087309680879116, 0.02610870823264122, -0.04092002287507057, 0.04698675498366356, 0.036967311054468155, -0.01988638937473297, 0.01512531004846096, -0.007515860255807638, -0.0036306390538811684, -0.020199786871671677, -0.015216450206935406, -0.008468515239655972, 0.04056699946522713, -0.009615574963390827, -0.016957862302660942, -0.03619827702641487, -0.029608456417918205, 0.01827177032828331, 0.02522679790854454, 0.0328664556145668, -0.058334190398454666, -0.015704018995165825, -0.019262289628386497, 0.01582116261124611, -0.004073862452059984, 0.0008415157208219171, 0.0033491982612758875, -0.029828930273652077, 0.00485636480152607, -0.02362101525068283, 0.0022620961535722017, 0.021565578877925873, -0.007552052848041058, -0.04294661059975624, -0.024309605360031128, -0.030475888401269913, -0.03843861073255539, 0.013535914942622185, 0.049783483147621155, -0.03394913300871849, 0.019952217116951942, -0.0006364764412865043, 0.041326314210891724, -0.0064056203700602055, -0.009683892130851746, -0.01995224691927433, -0.00742790661752224, -0.021115006878972054, 0.026837380602955818, 0.056177593767642975, 0.0026894682087004185, 0.03732426464557648, 0.030383430421352386, 0.02662808448076248, -0.03956698998808861, 0.01075856015086174, 0.016725363209843636, 0.03322979062795639, 0.014385269023478031, -0.043809618800878525, -0.0062562040984630585, -0.014905866235494614, -0.0704176276922226, 0.011073843576014042, 0.023436833173036575, -0.19843269884586334, 0.044717937707901, -0.006822975818067789, -0.02923608012497425, 0.07545647770166397, 0.01489676907658577, -0.02975800260901451, 0.012600521557033062, -0.02570289745926857, 0.02626628242433071, -0.0418073832988739, 0.0255363080650568, -0.008086332120001316, 0.007893114350736141, -0.05635407567024231, -0.01030438207089901, -0.020170941948890686, 0.04073256999254227, 0.048625603318214417, -0.02225961722433567, 0.022088656201958656, 0.024426395073533058, 0.016969624906778336, -0.015814028680324554, 0.09585066884756088, 0.013986403122544289, -0.04457494989037514, -0.008715668693184853, 0.009866151958703995, 0.022958923131227493, -0.01274800393730402, 0.02860783040523529, -0.014264584518969059, -0.022916454821825027, -0.03223995119333267, 0.038205381482839584, -0.01597096212208271, -0.04971277341246605, -0.028995253145694733, -0.002878101309761405, 0.017004594206809998, 0.08562222123146057, -0.001704964553937316, -0.01499695423990488, -0.008003315888345242, -0.0036339538637548685, 4.910781353828497e-05, -0.0017631568480283022, -0.02212762087583542, 0.032679129391908646, -0.018834123387932777, -0.006841199938207865, 0.013072499074041843, -0.0039396439678967, 0.008810479193925858, 0.03963935002684593, 0.15284676849842072, 0.020072653889656067, -0.014151330105960369, 0.04423750936985016, -0.00728781521320343, 0.0025542103685438633, -0.03419880196452141, 0.013842307962477207, -0.0016143344109877944, -0.022193918004631996, -0.009970570914447308, 0.004186246544122696, 0.034826673567295074, -0.0028133816085755825, -0.009420856833457947, 0.002448191400617361, -0.016674725338816643, -0.016484364867210388, 0.01048978790640831, 0.0083362041041255, 0.043591681867837906, -0.0006411672802641988, 0.00667003495618701, 0.008330749347805977, -0.02244424633681774, -0.03614722937345505, 0.014598047360777855, -0.03983166813850403, 0.03001330979168415, 0.010112135671079159, -0.002254097955301404, -0.016732264310121536, -0.02057538740336895, -0.028299229219555855, -0.0611051581799984, -0.04465385153889656, 0.006263623014092445, -0.024111589416861534, 0.0030663185752928257, 0.02796088717877865, -0.0847581997513771, -0.09105540066957474, -0.017503393813967705, -0.014210405759513378, 0.022328084334731102, 0.008837384171783924, -0.0020350839477032423, -0.016182806342840195, 0.036533478647470474, 0.022055232897400856, 0.03338674083352089, -0.010359498672187328, -0.014287861064076424, -0.005469845607876778, 0.0007509225979447365, -0.016420137137174606, -0.024739397689700127, 0.015749793499708176, -0.0028288797475397587, -0.1396825760602951, -0.016989177092909813, -0.02489158697426319, -0.041836462914943695, -0.01173203531652689, 0.01529802568256855, -0.011672033928334713, 0.01692606322467327, -0.019590681418776512, -0.005264853127300739, -0.014692697674036026, -0.021214785054326057, 0.36670875549316406, -0.019413089379668236, -0.015878625214099884, -0.0024136484134942293, -0.020942924544215202, -0.015773765742778778, -0.044336311519145966, 0.02936067245900631, 0.007390276063233614], metadata={'id': 'L30_V096_F084', 'timestamp': '00:01:28', 'frame_idx': 2205, 'image_url': 'https://storage.googleapis.com/test-video-retrieval/dataset/unzips/Keyframes_L30/keyframes/L30_V096/084.jpg', 'asr_text': 'uộc thi lat tỏa năng lượng tích cực lần năm năm mơi ngàn không trăm hai mươi tư nhận bài dự thi từ ngày một tháng tám đến hết ngày ba mốt tháng mười năm ươi ngàn không trăm hai mươi tư với sự đồng hành của công ty hóp vồ lai việt nam phân thưởng hấp dẫn mới tổng trị giá một trăm triệu đồng một giải nhất hai mươi triệu đồng một giải nhi mười lăm triệu đồng một giải ba mươi triệu đồng mười lăm giải khuyến khích mỗi giải trị giá bai triệu đồng giải thường phụ cờlít dự thi được iều thích tám triệu đồng gây thất ấn tượng hai triệu đồng cứ bạn làa ai nhân viên văn phòng học sinh sinh viên công nhân hay ngươi nuôi trợ thì đều có thể tham gia với chúng tôi bằng thách thức vô cùng đơn giản gửi vi đi ô từ một đến bốn phút quay máy ngan có nội dung hoàn crỉnh kèm lây giới thiệu thông điệm khoảng một trăm đến hai trăm chữ về địa chỉ cuộc thi lan tỏa năng lượng tích cực a bòng thủy trẻ chấm com chấm vi en i thức gửi bằng khu gồ châu ai các bạn cũng từng quen để lại thông tin cá nhân gồm ho va tên số điện thoải để ban tổ chức dễ dàng liên hệ với các bản ngoài ra các bạn có thể gửi thêm cờ líp ra màn hình đứng được đăng tải trên cành trích thóc tủa cuộc thi lan tỏa năng lượng tích cực để được ưu tiên cộng điểm khi chấm giải còn chân chơ gì nữa hãy tham gia cùng chúng tôi để lan tỏa năng lượng tích cực', 'sound': 'Speech:0.60;Music:0.21;Basketball bounce:0.01', 'objects': {}, 'title': 'Mời bạn đọc tham gia cuộc thi ‘Lan tỏa năng lượng tích cực’ lần 5', 'author': 'Báo Tuổi Trẻ', 'length': 94, 'publish_date': '28/07/2024', 'duration': 94, 'channel_url': 'https://www.youtube.com/channel/UC47WI-kZXFf0H_f7pvaNCEQ', 'watch_url': 'https://youtube.com/watch?v=PnrBIfUOHQU', 'thumbnail_url': 'https://i.ytimg.com/vi/PnrBIfUOHQU/sddefault.jpg'}, excluded_embed_metadata_keys=[], excluded_llm_metadata_keys=[], relationships={}, metadata_template='{key}: {value}', metadata_separator='\\n', text='', mimetype='text/plain', start_char_idx=None, end_char_idx=None, metadata_seperator='\\n', text_template='{metadata_str}\\n\\n{content}', image=None, image_path=None, image_url='https://storage.googleapis.com/test-video-retrieval/dataset/unzips/Keyframes_L30/keyframes/L30_V096/084.jpg', image_mimetype=None, text_embedding=None)"
      ]
     },
     "execution_count": 11,
     "metadata": {},
     "output_type": "execute_result"
    }
   ],
   "source": [
    "image_node"
   ]
  },
  {
   "cell_type": "markdown",
   "id": "a2555b88",
   "metadata": {},
   "source": [
    "### Add ImageNodes to Vector Search Google Cloud"
   ]
  },
  {
   "cell_type": "code",
   "execution_count": 12,
   "id": "2aa4b28b",
   "metadata": {},
   "outputs": [],
   "source": [
    "# setup storage\n",
    "vector_store = VertexAIVectorStore(\n",
    "    project_id=PROJECT_ID,\n",
    "    region=REGION,\n",
    "    index_id=vs_index.resource_name,\n",
    "    endpoint_id=vs_endpoint.resource_name,\n",
    "    gcs_bucket_name=GCS_BUCKET_NAME,\n",
    "    credentials_path=\"C:/Users/mt200/OneDrive/Desktop/AI/AI_challenge/software/back-end/service-account.json\"\n",
    ")\n",
    "\n",
    "# set storage context\n",
    "storage_context = StorageContext.from_defaults(vector_store=vector_store)"
   ]
  },
  {
   "cell_type": "code",
   "execution_count": 13,
   "id": "92c33a33",
   "metadata": {},
   "outputs": [
    {
     "name": "stdout",
     "output_type": "stream",
     "text": [
      "Upserting datapoints MatchingEngineIndex index: projects/284454080854/locations/asia-southeast1/indexes/5015699367030423552\n"
     ]
    },
    {
     "name": "stderr",
     "output_type": "stream",
     "text": [
      "c:\\Users\\mt200\\OneDrive\\Desktop\\AI\\AI_challenge\\software\\back-end\\.venv\\Lib\\site-packages\\llama_index\\vector_stores\\vertexaivectorsearch\\utils.py:260: UserWarning: Some values in fields objects are not usable for restrictions. In order to be used they must be str, list[str] or numeric.\n",
      "  warnings.warn(\n"
     ]
    },
    {
     "name": "stdout",
     "output_type": "stream",
     "text": [
      "MatchingEngineIndex index Upserted datapoints. Resource name: projects/284454080854/locations/asia-southeast1/indexes/5015699367030423552\n"
     ]
    },
    {
     "data": {
      "text/plain": [
       "['L30_V096_F084']"
      ]
     },
     "execution_count": 13,
     "metadata": {},
     "output_type": "execute_result"
    }
   ],
   "source": [
    "vector_store.add([image_node])"
   ]
  },
  {
   "cell_type": "code",
   "execution_count": null,
   "id": "46f26698",
   "metadata": {},
   "outputs": [
    {
     "name": "stdout",
     "output_type": "stream",
     "text": [
      "Upserting datapoints MatchingEngineIndex index: projects/284454080854/locations/asia-southeast1/indexes/5015699367030423552\n",
      "MatchingEngineIndex index Upserted datapoints. Resource name: projects/284454080854/locations/asia-southeast1/indexes/5015699367030423552\n",
      "Added batch 122000 -> 122500\n",
      "Upserting datapoints MatchingEngineIndex index: projects/284454080854/locations/asia-southeast1/indexes/5015699367030423552\n",
      "MatchingEngineIndex index Upserted datapoints. Resource name: projects/284454080854/locations/asia-southeast1/indexes/5015699367030423552\n",
      "Added batch 122500 -> 123000\n",
      "Upserting datapoints MatchingEngineIndex index: projects/284454080854/locations/asia-southeast1/indexes/5015699367030423552\n",
      "MatchingEngineIndex index Upserted datapoints. Resource name: projects/284454080854/locations/asia-southeast1/indexes/5015699367030423552\n",
      "Added batch 123000 -> 123500\n",
      "Upserting datapoints MatchingEngineIndex index: projects/284454080854/locations/asia-southeast1/indexes/5015699367030423552\n",
      "MatchingEngineIndex index Upserted datapoints. Resource name: projects/284454080854/locations/asia-southeast1/indexes/5015699367030423552\n",
      "Added batch 123500 -> 124000\n",
      "Upserting datapoints MatchingEngineIndex index: projects/284454080854/locations/asia-southeast1/indexes/5015699367030423552\n",
      "MatchingEngineIndex index Upserted datapoints. Resource name: projects/284454080854/locations/asia-southeast1/indexes/5015699367030423552\n",
      "Added batch 124000 -> 124500\n",
      "Upserting datapoints MatchingEngineIndex index: projects/284454080854/locations/asia-southeast1/indexes/5015699367030423552\n",
      "MatchingEngineIndex index Upserted datapoints. Resource name: projects/284454080854/locations/asia-southeast1/indexes/5015699367030423552\n",
      "Added batch 124500 -> 125000\n",
      "Upserting datapoints MatchingEngineIndex index: projects/284454080854/locations/asia-southeast1/indexes/5015699367030423552\n",
      "MatchingEngineIndex index Upserted datapoints. Resource name: projects/284454080854/locations/asia-southeast1/indexes/5015699367030423552\n",
      "Added batch 125000 -> 125500\n",
      "Upserting datapoints MatchingEngineIndex index: projects/284454080854/locations/asia-southeast1/indexes/5015699367030423552\n",
      "MatchingEngineIndex index Upserted datapoints. Resource name: projects/284454080854/locations/asia-southeast1/indexes/5015699367030423552\n",
      "Added batch 125500 -> 126000\n",
      "Upserting datapoints MatchingEngineIndex index: projects/284454080854/locations/asia-southeast1/indexes/5015699367030423552\n",
      "MatchingEngineIndex index Upserted datapoints. Resource name: projects/284454080854/locations/asia-southeast1/indexes/5015699367030423552\n",
      "Added batch 126000 -> 126500\n",
      "Upserting datapoints MatchingEngineIndex index: projects/284454080854/locations/asia-southeast1/indexes/5015699367030423552\n",
      "MatchingEngineIndex index Upserted datapoints. Resource name: projects/284454080854/locations/asia-southeast1/indexes/5015699367030423552\n",
      "Added batch 126500 -> 127000\n",
      "Upserting datapoints MatchingEngineIndex index: projects/284454080854/locations/asia-southeast1/indexes/5015699367030423552\n",
      "MatchingEngineIndex index Upserted datapoints. Resource name: projects/284454080854/locations/asia-southeast1/indexes/5015699367030423552\n",
      "Added batch 127000 -> 127500\n",
      "Upserting datapoints MatchingEngineIndex index: projects/284454080854/locations/asia-southeast1/indexes/5015699367030423552\n",
      "MatchingEngineIndex index Upserted datapoints. Resource name: projects/284454080854/locations/asia-southeast1/indexes/5015699367030423552\n",
      "Added batch 127500 -> 128000\n",
      "Upserting datapoints MatchingEngineIndex index: projects/284454080854/locations/asia-southeast1/indexes/5015699367030423552\n",
      "MatchingEngineIndex index Upserted datapoints. Resource name: projects/284454080854/locations/asia-southeast1/indexes/5015699367030423552\n",
      "Added batch 128000 -> 128500\n",
      "Upserting datapoints MatchingEngineIndex index: projects/284454080854/locations/asia-southeast1/indexes/5015699367030423552\n",
      "MatchingEngineIndex index Upserted datapoints. Resource name: projects/284454080854/locations/asia-southeast1/indexes/5015699367030423552\n",
      "Added batch 128500 -> 129000\n",
      "Upserting datapoints MatchingEngineIndex index: projects/284454080854/locations/asia-southeast1/indexes/5015699367030423552\n",
      "MatchingEngineIndex index Upserted datapoints. Resource name: projects/284454080854/locations/asia-southeast1/indexes/5015699367030423552\n",
      "Added batch 129000 -> 129500\n",
      "Upserting datapoints MatchingEngineIndex index: projects/284454080854/locations/asia-southeast1/indexes/5015699367030423552\n",
      "MatchingEngineIndex index Upserted datapoints. Resource name: projects/284454080854/locations/asia-southeast1/indexes/5015699367030423552\n",
      "Added batch 129500 -> 130000\n",
      "Upserting datapoints MatchingEngineIndex index: projects/284454080854/locations/asia-southeast1/indexes/5015699367030423552\n",
      "MatchingEngineIndex index Upserted datapoints. Resource name: projects/284454080854/locations/asia-southeast1/indexes/5015699367030423552\n",
      "Added batch 130000 -> 130500\n",
      "Upserting datapoints MatchingEngineIndex index: projects/284454080854/locations/asia-southeast1/indexes/5015699367030423552\n",
      "MatchingEngineIndex index Upserted datapoints. Resource name: projects/284454080854/locations/asia-southeast1/indexes/5015699367030423552\n",
      "Added batch 130500 -> 131000\n",
      "Upserting datapoints MatchingEngineIndex index: projects/284454080854/locations/asia-southeast1/indexes/5015699367030423552\n",
      "MatchingEngineIndex index Upserted datapoints. Resource name: projects/284454080854/locations/asia-southeast1/indexes/5015699367030423552\n",
      "Added batch 131000 -> 131500\n",
      "Upserting datapoints MatchingEngineIndex index: projects/284454080854/locations/asia-southeast1/indexes/5015699367030423552\n",
      "MatchingEngineIndex index Upserted datapoints. Resource name: projects/284454080854/locations/asia-southeast1/indexes/5015699367030423552\n",
      "Added batch 131500 -> 132000\n",
      "Upserting datapoints MatchingEngineIndex index: projects/284454080854/locations/asia-southeast1/indexes/5015699367030423552\n",
      "MatchingEngineIndex index Upserted datapoints. Resource name: projects/284454080854/locations/asia-southeast1/indexes/5015699367030423552\n",
      "Added batch 132000 -> 132500\n",
      "Upserting datapoints MatchingEngineIndex index: projects/284454080854/locations/asia-southeast1/indexes/5015699367030423552\n",
      "MatchingEngineIndex index Upserted datapoints. Resource name: projects/284454080854/locations/asia-southeast1/indexes/5015699367030423552\n",
      "Added batch 132500 -> 133000\n",
      "Upserting datapoints MatchingEngineIndex index: projects/284454080854/locations/asia-southeast1/indexes/5015699367030423552\n",
      "MatchingEngineIndex index Upserted datapoints. Resource name: projects/284454080854/locations/asia-southeast1/indexes/5015699367030423552\n",
      "Added batch 133000 -> 133500\n",
      "Upserting datapoints MatchingEngineIndex index: projects/284454080854/locations/asia-southeast1/indexes/5015699367030423552\n",
      "MatchingEngineIndex index Upserted datapoints. Resource name: projects/284454080854/locations/asia-southeast1/indexes/5015699367030423552\n",
      "Added batch 133500 -> 134000\n",
      "Upserting datapoints MatchingEngineIndex index: projects/284454080854/locations/asia-southeast1/indexes/5015699367030423552\n",
      "MatchingEngineIndex index Upserted datapoints. Resource name: projects/284454080854/locations/asia-southeast1/indexes/5015699367030423552\n",
      "Added batch 134000 -> 134500\n",
      "Upserting datapoints MatchingEngineIndex index: projects/284454080854/locations/asia-southeast1/indexes/5015699367030423552\n",
      "MatchingEngineIndex index Upserted datapoints. Resource name: projects/284454080854/locations/asia-southeast1/indexes/5015699367030423552\n",
      "Added batch 134500 -> 135000\n",
      "Upserting datapoints MatchingEngineIndex index: projects/284454080854/locations/asia-southeast1/indexes/5015699367030423552\n",
      "MatchingEngineIndex index Upserted datapoints. Resource name: projects/284454080854/locations/asia-southeast1/indexes/5015699367030423552\n",
      "Added batch 135000 -> 135500\n",
      "Upserting datapoints MatchingEngineIndex index: projects/284454080854/locations/asia-southeast1/indexes/5015699367030423552\n",
      "MatchingEngineIndex index Upserted datapoints. Resource name: projects/284454080854/locations/asia-southeast1/indexes/5015699367030423552\n",
      "Added batch 135500 -> 136000\n",
      "Upserting datapoints MatchingEngineIndex index: projects/284454080854/locations/asia-southeast1/indexes/5015699367030423552\n",
      "MatchingEngineIndex index Upserted datapoints. Resource name: projects/284454080854/locations/asia-southeast1/indexes/5015699367030423552\n",
      "Added batch 136000 -> 136500\n",
      "Upserting datapoints MatchingEngineIndex index: projects/284454080854/locations/asia-southeast1/indexes/5015699367030423552\n",
      "MatchingEngineIndex index Upserted datapoints. Resource name: projects/284454080854/locations/asia-southeast1/indexes/5015699367030423552\n",
      "Added batch 136500 -> 137000\n",
      "Upserting datapoints MatchingEngineIndex index: projects/284454080854/locations/asia-southeast1/indexes/5015699367030423552\n",
      "MatchingEngineIndex index Upserted datapoints. Resource name: projects/284454080854/locations/asia-southeast1/indexes/5015699367030423552\n",
      "Added batch 137000 -> 137500\n",
      "Upserting datapoints MatchingEngineIndex index: projects/284454080854/locations/asia-southeast1/indexes/5015699367030423552\n",
      "MatchingEngineIndex index Upserted datapoints. Resource name: projects/284454080854/locations/asia-southeast1/indexes/5015699367030423552\n",
      "Added batch 137500 -> 138000\n",
      "Upserting datapoints MatchingEngineIndex index: projects/284454080854/locations/asia-southeast1/indexes/5015699367030423552\n",
      "MatchingEngineIndex index Upserted datapoints. Resource name: projects/284454080854/locations/asia-southeast1/indexes/5015699367030423552\n",
      "Added batch 138000 -> 138500\n",
      "Upserting datapoints MatchingEngineIndex index: projects/284454080854/locations/asia-southeast1/indexes/5015699367030423552\n",
      "MatchingEngineIndex index Upserted datapoints. Resource name: projects/284454080854/locations/asia-southeast1/indexes/5015699367030423552\n",
      "Added batch 138500 -> 139000\n",
      "Upserting datapoints MatchingEngineIndex index: projects/284454080854/locations/asia-southeast1/indexes/5015699367030423552\n",
      "MatchingEngineIndex index Upserted datapoints. Resource name: projects/284454080854/locations/asia-southeast1/indexes/5015699367030423552\n",
      "Added batch 139000 -> 139500\n",
      "Upserting datapoints MatchingEngineIndex index: projects/284454080854/locations/asia-southeast1/indexes/5015699367030423552\n",
      "MatchingEngineIndex index Upserted datapoints. Resource name: projects/284454080854/locations/asia-southeast1/indexes/5015699367030423552\n",
      "Added batch 139500 -> 140000\n",
      "Upserting datapoints MatchingEngineIndex index: projects/284454080854/locations/asia-southeast1/indexes/5015699367030423552\n",
      "MatchingEngineIndex index Upserted datapoints. Resource name: projects/284454080854/locations/asia-southeast1/indexes/5015699367030423552\n",
      "Added batch 140000 -> 140500\n",
      "Upserting datapoints MatchingEngineIndex index: projects/284454080854/locations/asia-southeast1/indexes/5015699367030423552\n",
      "MatchingEngineIndex index Upserted datapoints. Resource name: projects/284454080854/locations/asia-southeast1/indexes/5015699367030423552\n",
      "Added batch 140500 -> 141000\n",
      "Upserting datapoints MatchingEngineIndex index: projects/284454080854/locations/asia-southeast1/indexes/5015699367030423552\n",
      "MatchingEngineIndex index Upserted datapoints. Resource name: projects/284454080854/locations/asia-southeast1/indexes/5015699367030423552\n",
      "Added batch 141000 -> 141500\n",
      "Upserting datapoints MatchingEngineIndex index: projects/284454080854/locations/asia-southeast1/indexes/5015699367030423552\n",
      "MatchingEngineIndex index Upserted datapoints. Resource name: projects/284454080854/locations/asia-southeast1/indexes/5015699367030423552\n",
      "Added batch 141500 -> 142000\n",
      "Upserting datapoints MatchingEngineIndex index: projects/284454080854/locations/asia-southeast1/indexes/5015699367030423552\n",
      "MatchingEngineIndex index Upserted datapoints. Resource name: projects/284454080854/locations/asia-southeast1/indexes/5015699367030423552\n",
      "Added batch 142000 -> 142500\n",
      "Upserting datapoints MatchingEngineIndex index: projects/284454080854/locations/asia-southeast1/indexes/5015699367030423552\n",
      "MatchingEngineIndex index Upserted datapoints. Resource name: projects/284454080854/locations/asia-southeast1/indexes/5015699367030423552\n",
      "Added batch 142500 -> 143000\n",
      "Upserting datapoints MatchingEngineIndex index: projects/284454080854/locations/asia-southeast1/indexes/5015699367030423552\n",
      "MatchingEngineIndex index Upserted datapoints. Resource name: projects/284454080854/locations/asia-southeast1/indexes/5015699367030423552\n",
      "Added batch 143000 -> 143500\n",
      "Upserting datapoints MatchingEngineIndex index: projects/284454080854/locations/asia-southeast1/indexes/5015699367030423552\n",
      "MatchingEngineIndex index Upserted datapoints. Resource name: projects/284454080854/locations/asia-southeast1/indexes/5015699367030423552\n",
      "Added batch 143500 -> 144000\n",
      "Upserting datapoints MatchingEngineIndex index: projects/284454080854/locations/asia-southeast1/indexes/5015699367030423552\n",
      "MatchingEngineIndex index Upserted datapoints. Resource name: projects/284454080854/locations/asia-southeast1/indexes/5015699367030423552\n",
      "Added batch 144000 -> 144500\n"
     ]
    }
   ],
   "source": [
    "import time\n",
    "\n",
    "BATCH_SIZE = 500  # giảm batch nếu cần\n",
    "DELAY_SEC = 60    # delay giữa các batch (tùy quota)\n",
    "\n",
    "for i in range(122000, len(image_nodes), BATCH_SIZE):\n",
    "    batch = image_nodes[i:i+BATCH_SIZE]\n",
    "    vector_store.add(batch)\n",
    "    print(f\"Added batch {i} -> {i+len(batch)}\")\n",
    "    time.sleep(DELAY_SEC)"
   ]
  },
  {
   "cell_type": "markdown",
   "id": "467de519",
   "metadata": {},
   "source": [
    "## Indexing Image from Vector Search in Google Cloud"
   ]
  },
  {
   "cell_type": "code",
   "execution_count": null,
   "id": "c40f4114",
   "metadata": {},
   "outputs": [],
   "source": [
    "import torch\n",
    "from PIL import Image\n",
    "from transformers import AutoProcessor, AutoModel, AutoTokenizer\n",
    "import requests\n",
    "import numpy as np\n",
    "\n",
    "# 1. Load model SigLIP (Vision + Text encoder) [siglip-so400m-patch14-384](https://huggingface.co/google/siglip-so400m-patch14-384)\n",
    "# model_id = \"google/siglip-so400m-patch14-384\"\n",
    "# [siglip-base-patch16-224](https://h uggingface.co/google/siglip-base-patch16-224)\n",
    "model_id = \"google/siglip-base-patch16-224\"\n",
    "tokenizer = AutoTokenizer.from_pretrained(\"google/siglip-base-patch16-224\")\n",
    "embed_model = AutoModel.from_pretrained(model_id)\n",
    "processor = AutoProcessor.from_pretrained(model_id)\n",
    "device = torch.device('cuda' if torch.cuda.is_available() else \"cpu\")"
   ]
  },
  {
   "cell_type": "code",
   "execution_count": null,
   "id": "b0bfaa32",
   "metadata": {},
   "outputs": [],
   "source": [
    "import torch\n",
    "from transformers import AutoTokenizer, AutoModel\n",
    "import numpy as np\n",
    "from llama_index.embeddings.huggingface import HuggingFaceEmbedding\n",
    "\n",
    "# Initialize the embedding model\n",
    "embed_model = HuggingFaceEmbedding(\n",
    "    model_name=\"google/siglip-base-patch16-224\",\n",
    "    device=\"cpu\",  \n",
    ")"
   ]
  },
  {
   "cell_type": "code",
   "execution_count": null,
   "id": "c49e8f5a",
   "metadata": {},
   "outputs": [],
   "source": [
    "# define index from vector store\n",
    "index = VectorStoreIndex.from_vector_store(\n",
    "    vector_store=vector_store, embed_model=embed_model\n",
    ")"
   ]
  },
  {
   "cell_type": "markdown",
   "id": "59e1a257",
   "metadata": {},
   "source": [
    "### Search"
   ]
  },
  {
   "cell_type": "code",
   "execution_count": null,
   "id": "30dc3ef8",
   "metadata": {},
   "outputs": [],
   "source": [
    "# simple similarity search without filter\n",
    "retriever = index.as_retriever(similarity_top_k=10)\n",
    "response = retriever.retrieve(\"pants\")\n",
    "\n",
    "for row in response:\n",
    "    print(f\"Text: {row.get_text()}\")\n",
    "    print(f\"   Score: {row.get_score():.3f}\")\n",
    "    print(f\"   Metadata: {row.metadata}\")"
   ]
  },
  {
   "cell_type": "code",
   "execution_count": null,
   "id": "0c06d144",
   "metadata": {},
   "outputs": [],
   "source": [
    "# similarity search with text filter\n",
    "filters = MetadataFilters(filters=[MetadataFilter(key=\"color\", value=\"blue\")])\n",
    "retriever = index.as_retriever(filters=filters, similarity_top_k=100)\n",
    "response = retriever.retrieve(\"denims\")\n",
    "\n",
    "for row in response:\n",
    "    print(f\"Text: {row.get_text()}\")\n",
    "    print(f\"   Score: {row.get_score():.3f}\")\n",
    "    print(f\"   Metadata: {row.metadata}\")"
   ]
  },
  {
   "cell_type": "code",
   "execution_count": null,
   "id": "f9f50d60",
   "metadata": {},
   "outputs": [],
   "source": [
    "# similarity search with text and numeric filter\n",
    "filters = MetadataFilters(\n",
    "    filters=[\n",
    "        MetadataFilter(key=\"color\", value=\"blue\"),\n",
    "        MetadataFilter(key=\"price\", operator=FilterOperator.GT, value=70.0),\n",
    "    ]\n",
    ")\n",
    "retriever = index.as_retriever(filters=filters, similarity_top_k=3)\n",
    "response = retriever.retrieve(\"denims\")\n",
    "\n",
    "for row in response:\n",
    "    print(f\"Text: {row.get_text()}\")\n",
    "    print(f\"   Score: {row.get_score():.3f}\")\n",
    "    print(f\"   Metadata: {row.metadata}\")"
   ]
  },
  {
   "cell_type": "code",
   "execution_count": null,
   "id": "b6c80838",
   "metadata": {},
   "outputs": [],
   "source": [
    "query_text = \"four women\"\n",
    "def embedding_text(texts):\n",
    "    with torch.no_grad():\n",
    "        inputs = processor(text=texts, return_tensors=\"pt\", padding=True)\n",
    "        embeds = model.get_text_features(**inputs)\n",
    "        embeds = embeds / embeds.norm(dim=-1, keepdim=True)\n",
    "    return embeds.cpu().numpy().tolist()\n",
    "\n",
    "embed_text = embedding_text(query_text)"
   ]
  },
  {
   "cell_type": "code",
   "execution_count": null,
   "id": "fac7cac2",
   "metadata": {},
   "outputs": [],
   "source": [
    "# Test query\n",
    "response = index.find_neighbors(\n",
    "    deployed_index_id=DEPLOYED_INDEX_ID,\n",
    "    queries=embed_text,\n",
    "    num_neighbors=20,\n",
    ")"
   ]
  },
  {
   "cell_type": "code",
   "execution_count": null,
   "id": "6991aece",
   "metadata": {},
   "outputs": [],
   "source": [
    "import numpy as np\n",
    "\n",
    "for idx, neighbor in enumerate(response[0]):\n",
    "    id = np.int64(neighbor.id)\n",
    "    # Use iloc to access the row by index\n",
    "    similar = df.iloc[id]\n",
    "    print(similar)\n",
    "    print(similar.metadata)\n",
    "    print(f\"{neighbor.distance:.4f}\")"
   ]
  }
 ],
 "metadata": {
  "kernelspec": {
   "display_name": ".venv",
   "language": "python",
   "name": "python3"
  },
  "language_info": {
   "codemirror_mode": {
    "name": "ipython",
    "version": 3
   },
   "file_extension": ".py",
   "mimetype": "text/x-python",
   "name": "python",
   "nbconvert_exporter": "python",
   "pygments_lexer": "ipython3",
   "version": "3.12.6"
  }
 },
 "nbformat": 4,
 "nbformat_minor": 5
}
